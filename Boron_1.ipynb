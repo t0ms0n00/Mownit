{
 "cells": [
  {
   "cell_type": "markdown",
   "metadata": {},
   "source": [
    "# Laboratorium 1 - MOwNiT"
   ]
  },
  {
   "cell_type": "markdown",
   "metadata": {},
   "source": [
    "## Autor: Tomasz Boroń"
   ]
  },
  {
   "cell_type": "markdown",
   "metadata": {},
   "source": [
    "## Temat: Arytmetyka komputerowa"
   ]
  },
  {
   "cell_type": "markdown",
   "metadata": {},
   "source": [
    "## Numer zadania: 10"
   ]
  },
  {
   "cell_type": "markdown",
   "metadata": {},
   "source": [
    "## Importy"
   ]
  },
  {
   "cell_type": "code",
   "execution_count": 1,
   "metadata": {},
   "outputs": [],
   "source": [
    "from math import sqrt\n",
    "from math import log\n",
    "from sys import float_info"
   ]
  },
  {
   "cell_type": "markdown",
   "metadata": {},
   "source": [
    "## Float w Pythonie"
   ]
  },
  {
   "cell_type": "code",
   "execution_count": 2,
   "metadata": {},
   "outputs": [
    {
     "name": "stdout",
     "output_type": "stream",
     "text": [
      "sys.float_info(max=1.7976931348623157e+308, max_exp=1024, max_10_exp=308, min=2.2250738585072014e-308, min_exp=-1021, min_10_exp=-307, dig=15, mant_dig=53, epsilon=2.220446049250313e-16, radix=2, rounds=1)\n"
     ]
    }
   ],
   "source": [
    "print(float_info)"
   ]
  },
  {
   "cell_type": "markdown",
   "metadata": {},
   "source": [
    "## Obliczanie wyrazów ciągu ze wzoru z ćwiczenia"
   ]
  },
  {
   "cell_type": "markdown",
   "metadata": {},
   "source": [
    "$ x_{k+1}=2^{(k+1)}*(\\sqrt{1+2^{-k}x_{k}}-1)$"
   ]
  },
  {
   "cell_type": "markdown",
   "metadata": {},
   "source": [
    "podstawienie $ k+1=n $"
   ]
  },
  {
   "cell_type": "markdown",
   "metadata": {},
   "source": [
    "$ x_{n}=2^{n}*(\\sqrt{1+2^{1-n}x_{n-1}}-1) $"
   ]
  },
  {
   "cell_type": "code",
   "execution_count": 3,
   "metadata": {},
   "outputs": [],
   "source": [
    "def calc_method_1(n,x0):\n",
    "    if n==0: return x0\n",
    "    else: return 2**(n)*(sqrt(1+2**(1-n)*calc_method_1(n-1,x0))-1)"
   ]
  },
  {
   "cell_type": "markdown",
   "metadata": {},
   "source": [
    "#### Test"
   ]
  },
  {
   "cell_type": "code",
   "execution_count": 4,
   "metadata": {},
   "outputs": [
    {
     "name": "stdout",
     "output_type": "stream",
     "text": [
      "2.0799694724610163\n",
      "2.0794415416798357\n"
     ]
    }
   ],
   "source": [
    "print(calc_method_1(12,7))\n",
    "print(log(8))"
   ]
  },
  {
   "cell_type": "markdown",
   "metadata": {},
   "source": [
    "## Alternatywna postać równoważna wzoru"
   ]
  },
  {
   "cell_type": "markdown",
   "metadata": {},
   "source": [
    "Postać, do której równość została przekształcona:"
   ]
  },
  {
   "cell_type": "markdown",
   "metadata": {},
   "source": [
    "$ x_{k+1}=\\frac{2x_{k}}{\\sqrt{1+\\frac{x_{k}}{2^k}}+1} $"
   ]
  },
  {
   "cell_type": "markdown",
   "metadata": {},
   "source": [
    "Podstawienie $ k + 1 = n $"
   ]
  },
  {
   "cell_type": "markdown",
   "metadata": {},
   "source": [
    "$ x_{n}=\\frac{2x_{n-1}}{\\sqrt{1+\\frac{x_{n-1}}{2^{(n-1)}}}+1} $"
   ]
  },
  {
   "cell_type": "markdown",
   "metadata": {},
   "source": [
    "## Obliczenia wg nowej postaci wzoru"
   ]
  },
  {
   "cell_type": "code",
   "execution_count": 5,
   "metadata": {},
   "outputs": [],
   "source": [
    "def calc_method_2(n,x0):\n",
    "    if n==0: return x0\n",
    "    else: \n",
    "        prev = calc_method_2(n-1,x0)\n",
    "        return (2*prev)/(1+sqrt(1+prev/2**(n-1)))"
   ]
  },
  {
   "cell_type": "markdown",
   "metadata": {},
   "source": [
    "#### Test"
   ]
  },
  {
   "cell_type": "code",
   "execution_count": 6,
   "metadata": {},
   "outputs": [
    {
     "name": "stdout",
     "output_type": "stream",
     "text": [
      "1.098612293164345\n",
      "1.0986122886681098\n"
     ]
    }
   ],
   "source": [
    "print(calc_method_2(27,2))\n",
    "print(log(3))"
   ]
  },
  {
   "cell_type": "markdown",
   "metadata": {},
   "source": [
    "## Testy, problemy, spostrzeżenia"
   ]
  },
  {
   "cell_type": "markdown",
   "metadata": {},
   "source": [
    "#### Dla dużego k (lub n) metoda 1 zawodzi"
   ]
  },
  {
   "cell_type": "code",
   "execution_count": 7,
   "metadata": {},
   "outputs": [
    {
     "name": "stdout",
     "output_type": "stream",
     "text": [
      "1.609375\n",
      "1.6094379124341003\n"
     ]
    }
   ],
   "source": [
    "print(calc_method_1(45,4))\n",
    "print(log(5))"
   ]
  },
  {
   "cell_type": "markdown",
   "metadata": {},
   "source": [
    "Już jest wartość poniżej granicy ciągu, a dalej jest tylko gorzej:"
   ]
  },
  {
   "cell_type": "code",
   "execution_count": 8,
   "metadata": {},
   "outputs": [
    {
     "name": "stdout",
     "output_type": "stream",
     "text": [
      "Krok:  45  wartosc:  1.609375\n",
      "Krok:  46  wartosc:  1.609375\n",
      "Krok:  47  wartosc:  1.59375\n",
      "Krok:  48  wartosc:  1.5625\n",
      "Krok:  49  wartosc:  1.5\n",
      "Krok:  50  wartosc:  1.5\n",
      "Krok:  51  wartosc:  1.5\n",
      "Krok:  52  wartosc:  1.0\n",
      "Krok:  53  wartosc:  0.0\n",
      "Krok:  54  wartosc:  0.0\n",
      "Krok:  55  wartosc:  0.0\n"
     ]
    }
   ],
   "source": [
    "for i in range(45,56):\n",
    "    print(\"Krok: \",i,\" wartosc: \",calc_method_1(i,4))"
   ]
  },
  {
   "cell_type": "markdown",
   "metadata": {},
   "source": [
    "Przeksztalcony wzor dalej radzi sobie dobrze"
   ]
  },
  {
   "cell_type": "code",
   "execution_count": 9,
   "metadata": {},
   "outputs": [
    {
     "name": "stdout",
     "output_type": "stream",
     "text": [
      "Krok:  45  wartosc:  1.609437912434138\n",
      "Krok:  46  wartosc:  1.6094379124341194\n",
      "Krok:  47  wartosc:  1.60943791243411\n",
      "Krok:  48  wartosc:  1.6094379124341054\n",
      "Krok:  49  wartosc:  1.6094379124341032\n",
      "Krok:  50  wartosc:  1.609437912434102\n",
      "Krok:  51  wartosc:  1.6094379124341014\n",
      "Krok:  52  wartosc:  1.6094379124341014\n",
      "Krok:  53  wartosc:  1.6094379124341014\n",
      "Krok:  54  wartosc:  1.6094379124341014\n",
      "Krok:  55  wartosc:  1.6094379124341014\n"
     ]
    }
   ],
   "source": [
    "for i in range(45,56):\n",
    "    print(\"Krok: \",i,\" wartosc: \",calc_method_2(i,4))"
   ]
  },
  {
   "cell_type": "markdown",
   "metadata": {},
   "source": [
    "#### Moment, gdy utrata dokładności powoduje zły wynik (float)"
   ]
  },
  {
   "cell_type": "code",
   "execution_count": 10,
   "metadata": {
    "scrolled": false
   },
   "outputs": [
    {
     "name": "stdout",
     "output_type": "stream",
     "text": [
      "Slownik pojec: \n",
      "1 - wyznaczenie pierwszym sposobem wartosci, przy ktorej ciag mija granice\n",
      "2 - wyznaczenie drugim sposobem dla tego samego wyrazu ciagu\n",
      "3 - obliczenie metoda druga 99 wyrazu ciagu\n",
      "Ostatnia linijka do granica ciagu obliczona przy pomocy funkcji bibliotecznej\n",
      "\n",
      "1: Przy x0= 2  wartosc dla  27  wynosi: \t 1.09861227869987487792968750000000000\n",
      "2: Przy x0= 2  wartosc dla  27  wynosi: \t 1.09861229316434494407417332695331424\n",
      "3: Przy x0= 2  wartosc dla  99  wynosi: \t 1.09861228866811089233124221209436655\n",
      "Ciag jest zbiezny do: \t\t\t\t 1.09861228866810978210821758693782613\n",
      "\n",
      "1: Przy x0= 3  wartosc dla  33  wynosi: \t 1.38629341125488281250000000000000000\n",
      "2: Przy x0= 3  wartosc dla  33  wynosi: \t 1.38629436123175486805791933875298128\n",
      "3: Przy x0= 3  wartosc dla  99  wynosi: \t 1.38629436111989146063194766611559317\n",
      "Ciag jest zbiezny do: \t\t\t\t 1.38629436111989057245352796599036083\n",
      "\n",
      "1: Przy x0= 4  wartosc dla  28  wynosi: \t 1.60943788290023803710937500000000000\n",
      "2: Przy x0= 4  wartosc dla  28  wynosi: \t 1.60943791725889240318281281361123547\n",
      "3: Przy x0= 4  wartosc dla  99  wynosi: \t 1.60943791243410139202296704752370715\n",
      "Ciag jest zbiezny do: \t\t\t\t 1.60943791243410028179994242236716673\n",
      "\n",
      "1: Przy x0= 5  wartosc dla  35  wynosi: \t 1.79175567626953125000000000000000000\n",
      "2: Przy x0= 5  wartosc dla  35  wynosi: \t 1.79175946927477269809969584457576275\n",
      "3: Przy x0= 5  wartosc dla  99  wynosi: \t 1.79175946922805651162491358263650909\n",
      "Ciag jest zbiezny do: \t\t\t\t 1.79175946922805495731267910741735250\n",
      "\n",
      "1: Przy x0= 6  wartosc dla  29  wynosi: \t 1.94591009616851806640625000000000000\n",
      "2: Przy x0= 6  wartosc dla  29  wynosi: \t 1.94591015258182853386870192480273545\n",
      "3: Przy x0= 6  wartosc dla  99  wynosi: \t 1.94591014905531589640474976476980373\n",
      "Ciag jest zbiezny do: \t\t\t\t 1.94591014905531323186949066439410672\n",
      "\n",
      "1: Przy x0= 7  wartosc dla  32  wynosi: \t 2.07944107055664062500000000000000000\n",
      "2: Przy x0= 7  wartosc dla  32  wynosi: \t 2.07944154218322418969933096377644688\n",
      "3: Przy x0= 7  wartosc dla  99  wynosi: \t 2.07944154167983841219324858684558421\n",
      "Ciag jest zbiezny do: \t\t\t\t 2.07944154167983574765798948646988720\n",
      "\n",
      "1: Przy x0= 8  wartosc dla  28  wynosi: \t 2.19722455739974975585937500000000000\n",
      "2: Przy x0= 8  wartosc dla  28  wynosi: \t 2.19722458632868988814834665390662849\n",
      "3: Przy x0= 8  wartosc dla  99  wynosi: \t 2.19722457733622178466248442418873310\n",
      "Ciag jest zbiezny do: \t\t\t\t 2.19722457733621956421643517387565225\n",
      "\n",
      "1: Przy x0= 9  wartosc dla  28  wynosi: \t 2.30258506536483764648437500000000000\n",
      "2: Przy x0= 9  wartosc dla  28  wynosi: \t 2.30258510286959960922104073688387871\n",
      "3: Przy x0= 9  wartosc dla  99  wynosi: \t 2.30258509299404812153966304322239012\n",
      "Ciag jest zbiezny do: \t\t\t\t 2.30258509299404590109361379290930927\n",
      "\n",
      "1: Przy x0= 10  wartosc dla  29  wynosi: \t 2.39789521694183349609375000000000000\n",
      "2: Przy x0= 10  wartosc dla  29  wynosi: \t 2.39789527815338177063608782191295177\n",
      "3: Przy x0= 10  wartosc dla  99  wynosi: \t 2.39789527279836889306352532003074884\n",
      "Ciag jest zbiezny do: \t\t\t\t 2.39789527279837066942036472028121352\n",
      "\n",
      "1: Przy x0= 11  wartosc dla  32  wynosi: \t 2.48490619659423828125000000000000000\n",
      "2: Przy x0= 11  wartosc dla  32  wynosi: \t 2.48490665050683956494026460859458894\n",
      "3: Przy x0= 11  wartosc dla  99  wynosi: \t 2.48490664978800479545384405355434865\n",
      "Ciag jest zbiezny do: \t\t\t\t 2.48490664978800035456174555292818695\n",
      "\n",
      "1: Przy x0= 12  wartosc dla  30  wynosi: \t 2.56494927406311035156250000000000000\n",
      "2: Przy x0= 12  wartosc dla  30  wynosi: \t 2.56494936052510880131194426212459803\n",
      "3: Przy x0= 12  wartosc dla  99  wynosi: \t 2.56494935746154295586052285216283053\n",
      "Ciag jest zbiezny do: \t\t\t\t 2.56494935746153673861158495128620416\n",
      "\n",
      "1: Przy x0= 13  wartosc dla  29  wynosi: \t 2.63905727863311767578125000000000000\n",
      "2: Przy x0= 13  wartosc dla  29  wynosi: \t 2.63905733610157255952799459919333458\n",
      "3: Przy x0= 13  wartosc dla  99  wynosi: \t 2.63905732961526506841209993581287563\n",
      "Ciag jest zbiezny do: \t\t\t\t 2.63905732961525840707395218487363309\n",
      "\n",
      "1: Przy x0= 14  wartosc dla  28  wynosi: \t 2.70805019140243530273437500000000000\n",
      "2: Przy x0= 14  wartosc dla  28  wynosi: \t 2.70805021476198692909065357525832951\n",
      "3: Przy x0= 14  wartosc dla  99  wynosi: \t 2.70805020110221672524630776024423540\n",
      "Ciag jest zbiezny do: \t\t\t\t 2.70805020110221006390816000930499285\n",
      "\n",
      "1: Przy x0= 15  wartosc dla  34  wynosi: \t 2.77258682250976562500000000000000000\n",
      "2: Przy x0= 15  wartosc dla  34  wynosi: \t 2.77258872246350973611583867750596255\n",
      "3: Przy x0= 15  wartosc dla  99  wynosi: \t 2.77258872223978292126389533223118633\n",
      "Ciag jest zbiezny do: \t\t\t\t 2.77258872223978114490705593198072165\n",
      "\n",
      "1: Przy x0= 16  wartosc dla  28  wynosi: \t 2.83321332931518554687500000000000000\n",
      "2: Przy x0= 16  wartosc dla  28  wynosi: \t 2.83321335900785076233887593843974173\n",
      "3: Przy x0= 16  wartosc dla  99  wynosi: \t 2.83321334405622016205938962229993194\n",
      "Ciag jest zbiezny do: \t\t\t\t 2.83321334405621616525650097173638642\n",
      "\n",
      "1: Przy x0= 17  wartosc dla  28  wynosi: \t 2.89037173986434936523437500000000000\n",
      "2: Przy x0= 17  wartosc dla  28  wynosi: \t 2.89037177345716678189546655630692840\n",
      "3: Przy x0= 17  wartosc dla  99  wynosi: \t 2.89037175789616540555471146944910288\n",
      "Ciag jest zbiezny do: \t\t\t\t 2.89037175789616451737629176932387054\n",
      "\n",
      "1: Przy x0= 18  wartosc dla  29  wynosi: \t 2.94443893432617187500000000000000000\n",
      "2: Przy x0= 18  wartosc dla  29  wynosi: \t 2.94443898724074815120843595650512725\n",
      "3: Przy x0= 18  wartosc dla  99  wynosi: \t 2.94443897916644203860414563678205013\n",
      "Ciag jest zbiezny do: \t\t\t\t 2.94443897916644026224730623653158545\n",
      "\n",
      "1: Przy x0= 19  wartosc dla  33  wynosi: \t 2.99573135375976562500000000000000000\n",
      "2: Przy x0= 19  wartosc dla  33  wynosi: \t 2.99573227407636810681879069306887686\n",
      "3: Przy x0= 19  wartosc dla  99  wynosi: \t 2.99573227355398952198584083816967905\n",
      "Ciag jest zbiezny do: \t\t\t\t 2.99573227355399085425347038835752755\n",
      "\n",
      "1: Przy x0= 20  wartosc dla  29  wynosi: \t 3.04452240467071533203125000000000000\n",
      "2: Przy x0= 20  wartosc dla  29  wynosi: \t 3.04452244635596036559377353114541620\n",
      "3: Przy x0= 20  wartosc dla  99  wynosi: \t 3.04452243772342567851296735170762986\n",
      "Ciag jest zbiezny do: \t\t\t\t 3.04452243772342301397770825133193284\n",
      "\n",
      "1: Przy x0= 21  wartosc dla  29  wynosi: \t 3.09104239940643310546875000000000000\n",
      "2: Przy x0= 21  wartosc dla  29  wynosi: \t 3.09104246225667678160675677645485848\n",
      "3: Przy x0= 21  wartosc dla  99  wynosi: \t 3.09104245335831695484785086591728032\n",
      "Ciag jest zbiezny do: \t\t\t\t 3.09104245335831606666943116579204798\n",
      "\n",
      "1: Przy x0= 22  wartosc dla  35  wynosi: \t 3.13549041748046875000000000000000000\n",
      "2: Przy x0= 22  wartosc dla  35  wynosi: \t 3.13549421607221434626922018651384860\n",
      "3: Przy x0= 22  wartosc dla  99  wynosi: \t 3.13549421592915322776207176502794027\n",
      "Ciag jest zbiezny do: \t\t\t\t 3.13549421592914967504839296452701092\n",
      "\n",
      "1: Przy x0= 23  wartosc dla  33  wynosi: \t 3.17805290222167968750000000000000000\n",
      "2: Przy x0= 23  wartosc dla  33  wynosi: \t 3.17805383093584303821899084141477942\n",
      "3: Przy x0= 23  wartosc dla  99  wynosi: \t 3.17805383034794797225686124875210226\n",
      "Ciag jest zbiezny do: \t\t\t\t 3.17805383034794575181081199843902141\n",
      "\n",
      "1: Przy x0= 24  wartosc dla  29  wynosi: \t 3.21887576580047607421875000000000000\n",
      "2: Przy x0= 24  wartosc dla  29  wynosi: \t 3.21887583451778480636562562722247094\n",
      "3: Przy x0= 24  wartosc dla  99  wynosi: \t 3.21887582486820278404593409504741430\n",
      "Ciag jest zbiezny do: \t\t\t\t 3.21887582486820056359988484473433346\n",
      "\n",
      "1: Przy x0= 25  wartosc dla  30  wynosi: \t 3.25809645652770996093750000000000000\n",
      "2: Przy x0= 25  wartosc dla  30  wynosi: \t 3.25809654296456630007128296711016446\n",
      "3: Przy x0= 25  wartosc dla  99  wynosi: \t 3.25809653802148613266354004736058414\n",
      "Ciag jest zbiezny do: \t\t\t\t 3.25809653802148213586065139679703861\n",
      "\n",
      "1: Przy x0= 26  wartosc dla  32  wynosi: \t 3.29583644866943359375000000000000000\n",
      "2: Przy x0= 26  wartosc dla  32  wynosi: \t 3.29583686726889357743175423820503056\n",
      "3: Przy x0= 26  wartosc dla  99  wynosi: \t 3.29583686600432734792320843553170562\n",
      "Ciag jest zbiezny do: \t\t\t\t 3.29583686600432912428004783578217030\n",
      "\n",
      "1: Przy x0= 27  wartosc dla  29  wynosi: \t 3.33220446109771728515625000000000000\n",
      "2: Przy x0= 27  wartosc dla  29  wynosi: \t 3.33220452051622473277348035480827093\n",
      "3: Przy x0= 27  wartosc dla  99  wynosi: \t 3.33220451017521002157195653126109391\n",
      "Ciag jest zbiezny do: \t\t\t\t 3.33220451017520380432301863038446754\n",
      "\n",
      "1: Przy x0= 28  wartosc dla  30  wynosi: \t 3.36729574203491210937500000000000000\n",
      "2: Przy x0= 28  wartosc dla  30  wynosi: \t 3.36729583526646036872875811241101474\n",
      "3: Przy x0= 28  wartosc dla  99  wynosi: \t 3.36729582998647725133878338965587318\n",
      "Ciag jest zbiezny do: \t\t\t\t 3.36729582998647414271431443921755999\n",
      "\n",
      "1: Przy x0= 29  wartosc dla  34  wynosi: \t 3.40119552612304687500000000000000000\n",
      "2: Przy x0= 29  wartosc dla  34  wynosi: \t 3.40119738199883192564243472588714212\n",
      "3: Przy x0= 29  wartosc dla  99  wynosi: \t 3.40119738166215901387090525531675667\n",
      "Ciag jest zbiezny do: \t\t\t\t 3.40119738166215546115722645481582731\n",
      "\n"
     ]
    }
   ],
   "source": [
    "print(\"Slownik pojec: \")\n",
    "print(\"1 - wyznaczenie pierwszym sposobem wartosci, przy ktorej ciag mija granice\")\n",
    "print(\"2 - wyznaczenie drugim sposobem dla tego samego wyrazu ciagu\")\n",
    "print(\"3 - obliczenie metoda druga 99 wyrazu ciagu\")\n",
    "print(\"Ostatnia linijka do granica ciagu obliczona przy pomocy funkcji bibliotecznej\")\n",
    "print()\n",
    "\n",
    "for x0 in range(2,30):\n",
    "    i=0\n",
    "    while log(x0+1)<=calc_method_1(i,x0):\n",
    "        i+=1\n",
    "    else:\n",
    "        print(\"1: Przy x0=\",x0,\" wartosc dla \",i,\" wynosi: \\t\",'%.35f'%calc_method_1(i,x0))\n",
    "        print(\"2: Przy x0=\",x0,\" wartosc dla \",i,\" wynosi: \\t\",'%.35f'%calc_method_2(i,x0))\n",
    "        print(\"3: Przy x0=\",x0,\" wartosc dla \",99,\" wynosi: \\t\",'%.35f'%calc_method_2(100,x0))\n",
    "        print(\"Ciag jest zbiezny do: \\t\\t\\t\\t\",'%.35f'%log(x0+1))\n",
    "    print()"
   ]
  }
 ],
 "metadata": {
  "kernelspec": {
   "display_name": "Python 3",
   "language": "python",
   "name": "python3"
  },
  "language_info": {
   "codemirror_mode": {
    "name": "ipython",
    "version": 3
   },
   "file_extension": ".py",
   "mimetype": "text/x-python",
   "name": "python",
   "nbconvert_exporter": "python",
   "pygments_lexer": "ipython3",
   "version": "3.8.3"
  }
 },
 "nbformat": 4,
 "nbformat_minor": 4
}
