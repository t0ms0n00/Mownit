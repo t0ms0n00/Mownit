{
 "cells": [
  {
   "cell_type": "markdown",
   "metadata": {},
   "source": [
    "# MOwNiT - laboratorium 5"
   ]
  },
  {
   "cell_type": "markdown",
   "metadata": {},
   "source": [
    "## Autor: Tomasz Boroń"
   ]
  },
  {
   "cell_type": "markdown",
   "metadata": {},
   "source": [
    "## Temat: Rozwiązywanie równań i układów równań nieliniowych"
   ]
  },
  {
   "cell_type": "markdown",
   "metadata": {},
   "source": [
    "## Importy"
   ]
  },
  {
   "cell_type": "code",
   "execution_count": 1,
   "metadata": {},
   "outputs": [],
   "source": [
    "from math import e\n",
    "import matplotlib.pyplot as plt\n",
    "import numpy as np"
   ]
  },
  {
   "cell_type": "markdown",
   "metadata": {},
   "source": [
    "## Zadanie 1 - równanie"
   ]
  },
  {
   "cell_type": "markdown",
   "metadata": {},
   "source": [
    "Równanie do rozwiązania:"
   ]
  },
  {
   "cell_type": "markdown",
   "metadata": {},
   "source": [
    "$ (x-1)e^{-15x}+x^{13} = 0 $"
   ]
  },
  {
   "cell_type": "code",
   "execution_count": 2,
   "metadata": {},
   "outputs": [],
   "source": [
    "def f(x):\n",
    "    return (x-1)*e**(-15*x)+x**13"
   ]
  },
  {
   "cell_type": "markdown",
   "metadata": {},
   "source": [
    "Pochodną powyższej funkcji wyliczono ręcznie"
   ]
  },
  {
   "cell_type": "code",
   "execution_count": 3,
   "metadata": {},
   "outputs": [],
   "source": [
    "def df(x):\n",
    "    return 16*e**(-15*x)-15*x*e**(-15*x)+13*x**12"
   ]
  },
  {
   "cell_type": "markdown",
   "metadata": {},
   "source": [
    "Przedział:"
   ]
  },
  {
   "cell_type": "markdown",
   "metadata": {},
   "source": [
    "$ [-0.8, 0.9] $"
   ]
  },
  {
   "cell_type": "code",
   "execution_count": 4,
   "metadata": {},
   "outputs": [],
   "source": [
    "a = -0.8\n",
    "b = 0.9"
   ]
  },
  {
   "cell_type": "markdown",
   "metadata": {},
   "source": [
    "Wykres funkcji:"
   ]
  },
  {
   "cell_type": "code",
   "execution_count": 5,
   "metadata": {},
   "outputs": [
    {
     "data": {
      "image/png": "[encoded data removed]",
      "text/plain": [
       "<Figure size 432x288 with 1 Axes>"
      ]
     },
     "metadata": {
      "needs_background": "light"
     },
     "output_type": "display_data"
    }
   ],
   "source": [
    "xs = [a+x*(b-a)/999 for x in range(1000)]\n",
    "func = [f(x) for x in xs]\n",
    "text = \"(x-1)e^(-15x)+x^13\"\n",
    "plt.title(text)\n",
    "plt.xlabel('X')\n",
    "plt.ylabel('Y')\n",
    "plt.plot(xs,func)\n",
    "plt.grid()\n",
    "plt.show()"
   ]
  },
  {
   "cell_type": "markdown",
   "metadata": {},
   "source": [
    "#### Metoda Newtona-Raphsona"
   ]
  },
  {
   "cell_type": "code",
   "execution_count": 197,
   "metadata": {},
   "outputs": [],
   "source": [
    "def N_R_method(x0, prec, breaker):\n",
    "    iterator = 1\n",
    "    old_pos = x0\n",
    "    # print(\"x=\",old_pos, \" f(x)=\", f(old_pos))\n",
    "    while 1:\n",
    "        new_pos = old_pos - (f(old_pos)/df(old_pos))\n",
    "        # print(\"x=\",new_pos, \" f(x)=\", f(new_pos))\n",
    "        if breaker == 1: # |x(i+1)-x(i)| < prec\n",
    "            if abs(new_pos-old_pos) < prec:\n",
    "                return iterator, new_pos\n",
    "        else: # |f(x(i))| < prec\n",
    "            if abs(f(new_pos)) < prec:\n",
    "                return iterator, new_pos\n",
    "        old_pos = new_pos\n",
    "        iterator += 1"
   ]
  },
  {
   "cell_type": "code",
   "execution_count": 198,
   "metadata": {},
   "outputs": [
    {
     "data": {
      "text/plain": [
       "(5, 0.30954046665899354)"
      ]
     },
     "execution_count": 198,
     "metadata": {},
     "output_type": "execute_result"
    }
   ],
   "source": [
    "N_R_method(0., 0.01, 2)"
   ]
  },
  {
   "cell_type": "markdown",
   "metadata": {},
   "source": [
    "#### Testy Metody"
   ]
  },
  {
   "cell_type": "markdown",
   "metadata": {},
   "source": [
    "Prezycja 1e-2"
   ]
  },
  {
   "cell_type": "code",
   "execution_count": 138,
   "metadata": {},
   "outputs": [
    {
     "name": "stdout",
     "output_type": "stream",
     "text": [
      "Test stop 1\n",
      "x0\titerations\tvalue\n",
      "-0.8 \t 23 \t\t 0.51921831\n",
      "-0.7 \t 21 \t\t 0.51921974\n",
      "-0.6 \t 19 \t\t 0.51942490\n",
      "-0.5 \t 18 \t\t 0.51921795\n",
      "-0.4 \t 16 \t\t 0.51931089\n",
      "-0.3 \t 15 \t\t 0.51921844\n",
      "-0.2 \t 13 \t\t 0.51924115\n",
      "-0.1 \t 12 \t\t 0.51921835\n",
      "0.0 \t 10 \t\t 0.51921908\n",
      "0.1 \t 8 \t\t 0.51936671\n",
      "0.2 \t 7 \t\t 0.51921836\n",
      "0.3 \t 5 \t\t 0.51923604\n",
      "0.4 \t 4 \t\t 0.51921817\n",
      "0.5 \t 2 \t\t 0.51921849\n",
      "0.6 \t 3 \t\t 0.51952423\n",
      "0.7 \t 5 \t\t 0.51944545\n",
      "0.8 \t 7 \t\t 0.51925400\n",
      "0.9 \t 8 \t\t 0.51965709\n",
      "Test stop 2\n",
      "-0.8 \t 18 \t\t 0.33550170\n",
      "-0.7 \t 16 \t\t 0.30845449\n",
      "-0.6 \t 15 \t\t 0.34252939\n",
      "-0.5 \t 13 \t\t 0.31593915\n",
      "-0.4 \t 11 \t\t 0.28952427\n",
      "-0.3 \t 10 \t\t 0.32446481\n",
      "-0.2 \t 8 \t\t 0.29872111\n",
      "-0.1 \t 7 \t\t 0.33437030\n",
      "0.0 \t 5 \t\t 0.30954047\n",
      "0.1 \t 3 \t\t 0.28521594\n",
      "0.2 \t 2 \t\t 0.32268450\n",
      "0.3 \t 1 \t\t 0.36086503\n",
      "0.4 \t 1 \t\t 0.45920829\n",
      "0.5 \t 1 \t\t 0.51961536\n",
      "0.6 \t 1 \t\t 0.55690612\n",
      "0.7 \t 1 \t\t 0.64624500\n",
      "0.8 \t 2 \t\t 0.68168411\n",
      "0.9 \t 4 \t\t 0.65350166\n"
     ]
    }
   ],
   "source": [
    "prec = 1e-2\n",
    "\n",
    "print(\"Test stop 1\")\n",
    "print(\"x0\\titerations\\tvalue\")\n",
    "for x0 in np.arange(a*10, b*10+1, 1):\n",
    "    x0 = x0/10\n",
    "    i, result = N_R_method(x0, prec, 1)\n",
    "    print(x0, \"\\t\", i, \"\\t\\t\", '%.8f'%result)\n",
    "print(\"Test stop 2\")\n",
    "for x0 in np.arange(a*10, b*10+1, 1):\n",
    "    x0 = x0/10\n",
    "    i, result = N_R_method(x0, prec, 2)\n",
    "    print(x0, \"\\t\", i, \"\\t\\t\", '%.8f'%result)"
   ]
  },
  {
   "cell_type": "markdown",
   "metadata": {},
   "source": [
    "Precyzja 1e-4"
   ]
  },
  {
   "cell_type": "code",
   "execution_count": 140,
   "metadata": {},
   "outputs": [
    {
     "name": "stdout",
     "output_type": "stream",
     "text": [
      "Test stop 1\n",
      "x0\titerations\tvalue\n",
      "-0.8 \t 24 \t\t 0.51921794\n",
      "-0.7 \t 22 \t\t 0.51921794\n",
      "-0.6 \t 21 \t\t 0.51921794\n",
      "-0.5 \t 18 \t\t 0.51921795\n",
      "-0.4 \t 17 \t\t 0.51921797\n",
      "-0.3 \t 16 \t\t 0.51921794\n",
      "-0.2 \t 14 \t\t 0.51921794\n",
      "-0.1 \t 13 \t\t 0.51921794\n",
      "0.0 \t 11 \t\t 0.51921794\n",
      "0.1 \t 10 \t\t 0.51921794\n",
      "0.2 \t 8 \t\t 0.51921794\n",
      "0.3 \t 6 \t\t 0.51921794\n",
      "0.4 \t 5 \t\t 0.51921794\n",
      "0.5 \t 3 \t\t 0.51921794\n",
      "0.6 \t 5 \t\t 0.51921794\n",
      "0.7 \t 7 \t\t 0.51921794\n",
      "0.8 \t 8 \t\t 0.51921794\n",
      "0.9 \t 10 \t\t 0.51921794\n",
      "Test stop 2\n",
      "-0.8 \t 22 \t\t 0.51954473\n",
      "-0.7 \t 20 \t\t 0.51848790\n",
      "-0.6 \t 18 \t\t 0.50981008\n",
      "-0.5 \t 17 \t\t 0.51926999\n",
      "-0.4 \t 15 \t\t 0.51344226\n",
      "-0.3 \t 14 \t\t 0.51959774\n",
      "-0.2 \t 12 \t\t 0.51650335\n",
      "-0.1 \t 11 \t\t 0.51956192\n",
      "0.0 \t 9 \t\t 0.51863727\n",
      "0.1 \t 7 \t\t 0.51159582\n",
      "0.2 \t 6 \t\t 0.51956642\n",
      "0.3 \t 4 \t\t 0.51683489\n",
      "0.4 \t 2 \t\t 0.50818859\n",
      "0.5 \t 1 \t\t 0.51961536\n",
      "0.6 \t 2 \t\t 0.52764347\n",
      "0.7 \t 4 \t\t 0.52656548\n",
      "0.8 \t 6 \t\t 0.52230234\n",
      "0.9 \t 7 \t\t 0.52915177\n"
     ]
    }
   ],
   "source": [
    "prec = 1e-4\n",
    "\n",
    "print(\"Test stop 1\")\n",
    "print(\"x0\\titerations\\tvalue\")\n",
    "for x0 in np.arange(a*10, b*10+1, 1):\n",
    "    x0 = x0/10\n",
    "    i, result = N_R_method(x0, prec, 1)\n",
    "    print(x0, \"\\t\", i, \"\\t\\t\", '%.8f'%result)\n",
    "print(\"Test stop 2\")\n",
    "for x0 in np.arange(a*10, b*10+1, 1):\n",
    "    x0 = x0/10\n",
    "    i, result = N_R_method(x0, prec, 2)\n",
    "    print(x0, \"\\t\", i, \"\\t\\t\", '%.8f'%result)"
   ]
  },
  {
   "cell_type": "markdown",
   "metadata": {},
   "source": [
    "Prezycja 1e-6"
   ]
  },
  {
   "cell_type": "code",
   "execution_count": 142,
   "metadata": {},
   "outputs": [
    {
     "name": "stdout",
     "output_type": "stream",
     "text": [
      "Test stop 1\n",
      "x0\titerations\tvalue\n",
      "-0.8 \t 24 \t\t 0.51921794\n",
      "-0.7 \t 23 \t\t 0.51921794\n",
      "-0.6 \t 21 \t\t 0.51921794\n",
      "-0.5 \t 19 \t\t 0.51921794\n",
      "-0.4 \t 18 \t\t 0.51921794\n",
      "-0.3 \t 16 \t\t 0.51921794\n",
      "-0.2 \t 15 \t\t 0.51921794\n",
      "-0.1 \t 13 \t\t 0.51921794\n",
      "0.0 \t 12 \t\t 0.51921794\n",
      "0.1 \t 10 \t\t 0.51921794\n",
      "0.2 \t 8 \t\t 0.51921794\n",
      "0.3 \t 7 \t\t 0.51921794\n",
      "0.4 \t 5 \t\t 0.51921794\n",
      "0.5 \t 3 \t\t 0.51921794\n",
      "0.6 \t 5 \t\t 0.51921794\n",
      "0.7 \t 7 \t\t 0.51921794\n",
      "0.8 \t 9 \t\t 0.51921794\n",
      "0.9 \t 10 \t\t 0.51921794\n",
      "Test stop 2\n",
      "-0.8 \t 23 \t\t 0.51921831\n",
      "-0.7 \t 21 \t\t 0.51921974\n",
      "-0.6 \t 20 \t\t 0.51921809\n",
      "-0.5 \t 17 \t\t 0.51926999\n",
      "-0.4 \t 16 \t\t 0.51931089\n",
      "-0.3 \t 15 \t\t 0.51921844\n",
      "-0.2 \t 13 \t\t 0.51924115\n",
      "-0.1 \t 12 \t\t 0.51921835\n",
      "0.0 \t 10 \t\t 0.51921908\n",
      "0.1 \t 9 \t\t 0.51921802\n",
      "0.2 \t 7 \t\t 0.51921836\n",
      "0.3 \t 5 \t\t 0.51923604\n",
      "0.4 \t 4 \t\t 0.51921817\n",
      "0.5 \t 2 \t\t 0.51921849\n",
      "0.6 \t 4 \t\t 0.51921827\n",
      "0.7 \t 6 \t\t 0.51921812\n",
      "0.8 \t 7 \t\t 0.51925400\n",
      "0.9 \t 9 \t\t 0.51921862\n"
     ]
    }
   ],
   "source": [
    "prec = 1e-6\n",
    "\n",
    "print(\"Test stop 1\")\n",
    "print(\"x0\\titerations\\tvalue\")\n",
    "for x0 in np.arange(a*10, b*10+1, 1):\n",
    "    x0 = x0/10\n",
    "    i, result = N_R_method(x0, prec, 1)\n",
    "    print(x0, \"\\t\", i, \"\\t\\t\", '%.8f'%result)\n",
    "print(\"Test stop 2\")\n",
    "for x0 in np.arange(a*10, b*10+1, 1):\n",
    "    x0 = x0/10\n",
    "    i, result = N_R_method(x0, prec, 2)\n",
    "    print(x0, \"\\t\", i, \"\\t\\t\", '%.8f'%result)"
   ]
  },
  {
   "cell_type": "markdown",
   "metadata": {},
   "source": [
    "#### Metoda siecznych"
   ]
  },
  {
   "cell_type": "code",
   "execution_count": 207,
   "metadata": {},
   "outputs": [],
   "source": [
    "def secant_method(x0, x1, prec, breaker):\n",
    "    iterator = 1\n",
    "    while 1:\n",
    "        # print(x0, x1)\n",
    "        if breaker == 1: # |x(i+1)-x(i)| < prec\n",
    "            if abs(x1-x0) < prec:\n",
    "                return iterator, x1\n",
    "        else: # |f(x(i))| < prec\n",
    "            if abs(f(x1)) < prec:\n",
    "                return iterator, x1\n",
    "        x0, x1 = x1, x1 - ((x1-x0)/(f(x1)-f(x0)))*f(x1)\n",
    "        iterator += 1"
   ]
  },
  {
   "cell_type": "code",
   "execution_count": 208,
   "metadata": {},
   "outputs": [
    {
     "data": {
      "text/plain": [
       "(11, 0.5192179395855308)"
      ]
     },
     "execution_count": 208,
     "metadata": {},
     "output_type": "execute_result"
    }
   ],
   "source": [
    "secant_method(0.3, 0.9, 1e-6, 1)"
   ]
  },
  {
   "cell_type": "markdown",
   "metadata": {},
   "source": [
    "#### Testy metody"
   ]
  },
  {
   "cell_type": "markdown",
   "metadata": {},
   "source": [
    "Precyzja 1e-2"
   ]
  },
  {
   "cell_type": "code",
   "execution_count": 157,
   "metadata": {
    "scrolled": false
   },
   "outputs": [
    {
     "name": "stdout",
     "output_type": "stream",
     "text": [
      "Test 1.1 - punkt startowy przedziału\n",
      "from\tto\titerations\tvalue\n",
      "-0.8 \t -0.7 \t 31 \t\t 0.51931007\n",
      "-0.8 \t -0.6 \t 2 \t\t -0.59073912\n",
      "-0.8 \t -0.5 \t 2 \t\t -0.49719680\n",
      "-0.8 \t -0.4 \t 2 \t\t -0.39922734\n",
      "-0.8 \t -0.3 \t 2 \t\t -0.29980020\n",
      "-0.8 \t -0.2 \t 2 \t\t -0.19995063\n",
      "-0.8 \t -0.1 \t 2 \t\t -0.09998822\n",
      "-0.8 \t 0.0 \t 2 \t\t 0.00000273\n",
      "-0.8 \t 0.1 \t 2 \t\t 0.10000062\n",
      "-0.8 \t 0.2 \t 2 \t\t 0.20000014\n",
      "-0.8 \t 0.3 \t 2 \t\t 0.30000003\n",
      "-0.8 \t 0.4 \t 2 \t\t 0.40000001\n",
      "-0.8 \t 0.5 \t 2 \t\t 0.50000000\n",
      "-0.8 \t 0.6 \t 2 \t\t 0.59999999\n",
      "-0.8 \t 0.7 \t 2 \t\t 0.69999995\n",
      "-0.8 \t 0.8 \t 2 \t\t 0.79999970\n",
      "-0.8 \t 0.9 \t 2 \t\t 0.89999852\n",
      "Test 1.2 - punkt końcowy przedziału\n",
      "from\tto\titerations\tvalue\n",
      "-0.8 \t 0.9 \t 2 \t\t 0.89999852\n",
      "-0.7 \t 0.9 \t 2 \t\t 0.89999341\n",
      "-0.6 \t 0.9 \t 2 \t\t 0.89997059\n",
      "-0.5 \t 0.9 \t 2 \t\t 0.89986880\n",
      "-0.4 \t 0.9 \t 2 \t\t 0.89941520\n",
      "-0.3 \t 0.9 \t 2 \t\t 0.89739911\n",
      "-0.2 \t 0.9 \t 13 \t\t 0.51976371\n",
      "-0.1 \t 0.9 \t 12 \t\t 0.52110212\n",
      "0.0 \t 0.9 \t 10 \t\t 0.51962129\n",
      "0.1 \t 0.9 \t 3 \t\t 0.45409544\n",
      "0.2 \t 0.9 \t 9 \t\t 0.51942289\n",
      "0.3 \t 0.9 \t 9 \t\t 0.51926979\n",
      "0.4 \t 0.9 \t 3 \t\t 0.40563734\n",
      "0.5 \t 0.9 \t 3 \t\t 0.50048272\n",
      "0.6 \t 0.9 \t 3 \t\t 0.59706277\n",
      "0.7 \t 0.9 \t 3 \t\t 0.68502171\n",
      "0.8 \t 0.9 \t 11 \t\t 0.51991084\n",
      "Test 2.1 - punkt startowy przedziału\n",
      "from\tto\titerations\tvalue\n",
      "-0.8 \t -0.7 \t 24 \t\t 0.29304955\n",
      "-0.8 \t -0.6 \t 22 \t\t 0.29264212\n",
      "-0.8 \t -0.5 \t 20 \t\t 0.29955136\n",
      "-0.8 \t -0.4 \t 18 \t\t 0.30940623\n",
      "-0.8 \t -0.3 \t 16 \t\t 0.32041539\n",
      "-0.8 \t -0.2 \t 13 \t\t 0.28971195\n",
      "-0.8 \t -0.1 \t 11 \t\t 0.30181662\n",
      "-0.8 \t 0.0 \t 9 \t\t 0.31441193\n",
      "-0.8 \t 0.1 \t 6 \t\t 0.28493468\n",
      "-0.8 \t 0.2 \t 4 \t\t 0.29717624\n",
      "-0.8 \t 0.3 \t 1 \t\t 0.30000000\n",
      "-0.8 \t 0.4 \t 1 \t\t 0.40000000\n",
      "-0.8 \t 0.5 \t 1 \t\t 0.50000000\n",
      "-0.8 \t 0.6 \t 1 \t\t 0.60000000\n",
      "-0.8 \t 0.7 \t 1 \t\t 0.70000000\n",
      "-0.8 \t 0.8 \t 5 \t\t 0.66451931\n",
      "-0.8 \t 0.9 \t 7 \t\t 0.66960724\n",
      "Test 2.2 - punkt końcowy przedziału\n",
      "from\tto\titerations\tvalue\n",
      "-0.8 \t 0.9 \t 7 \t\t 0.66960724\n",
      "-0.7 \t 0.9 \t 7 \t\t 0.66960489\n",
      "-0.6 \t 0.9 \t 7 \t\t 0.66959444\n",
      "-0.5 \t 0.9 \t 7 \t\t 0.66954779\n",
      "-0.4 \t 0.9 \t 7 \t\t 0.66933971\n",
      "-0.3 \t 0.9 \t 7 \t\t 0.66841033\n",
      "-0.2 \t 0.9 \t 7 \t\t 0.66423031\n",
      "-0.1 \t 0.9 \t 6 \t\t 0.68172814\n",
      "0.0 \t 0.9 \t 4 \t\t 0.65762603\n",
      "0.1 \t 0.9 \t 2 \t\t 0.45308230\n",
      "0.2 \t 0.9 \t 2 \t\t 0.29482732\n",
      "0.3 \t 0.9 \t 2 \t\t 0.31781049\n",
      "0.4 \t 0.9 \t 2 \t\t 0.40289545\n",
      "0.5 \t 0.9 \t 2 \t\t 0.50024294\n",
      "0.6 \t 0.9 \t 2 \t\t 0.59850942\n",
      "0.7 \t 0.9 \t 2 \t\t 0.69208146\n",
      "0.8 \t 0.9 \t 5 \t\t 0.66815458\n"
     ]
    }
   ],
   "source": [
    "prec = 1e-2\n",
    "\n",
    "print(\"Test 1.1 - punkt startowy przedziału\")\n",
    "print(\"from\\tto\\titerations\\tvalue\")\n",
    "for x1 in np.arange(a*10, b*10+1, 1):\n",
    "    x1 = x1/10\n",
    "    if x1 != a:\n",
    "        i, result = secant_method(a, x1, prec, 1)\n",
    "        print(a, \"\\t\", x1, \"\\t\", i, \"\\t\\t\", '%.8f'%result)\n",
    "print(\"Test 1.2 - punkt końcowy przedziału\")\n",
    "print(\"from\\tto\\titerations\\tvalue\")\n",
    "for x0 in np.arange(a*10, b*10+1, 1):\n",
    "    x0 = x0/10\n",
    "    if x0 != b:\n",
    "        i, result = secant_method(x0, b, prec, 1)\n",
    "        print(x0, \"\\t\", b, \"\\t\", i, \"\\t\\t\", '%.8f'%result)\n",
    "print(\"Test 2.1 - punkt startowy przedziału\")\n",
    "print(\"from\\tto\\titerations\\tvalue\")\n",
    "for x1 in np.arange(a*10, b*10+1, 1):\n",
    "    x1 = x1/10\n",
    "    if x1 != a:\n",
    "        i, result = secant_method(a, x1, prec, 2)\n",
    "        print(a, \"\\t\", x1, \"\\t\", i, \"\\t\\t\", '%.8f'%result)\n",
    "print(\"Test 2.2 - punkt końcowy przedziału\")\n",
    "print(\"from\\tto\\titerations\\tvalue\")\n",
    "for x0 in np.arange(a*10, b*10+1, 1):\n",
    "    x0 = x0/10\n",
    "    if x0 != b:\n",
    "        i, result = secant_method(x0, b, prec, 2)\n",
    "        print(x0, \"\\t\", b, \"\\t\", i, \"\\t\\t\", '%.8f'%result)"
   ]
  },
  {
   "cell_type": "markdown",
   "metadata": {},
   "source": [
    "Precyzja 1e-4"
   ]
  },
  {
   "cell_type": "code",
   "execution_count": 159,
   "metadata": {
    "scrolled": false
   },
   "outputs": [
    {
     "name": "stdout",
     "output_type": "stream",
     "text": [
      "Test 1.1 - punkt startowy przedziału\n",
      "from\tto\titerations\tvalue\n",
      "-0.8 \t -0.7 \t 32 \t\t 0.51921730\n",
      "-0.8 \t -0.6 \t 30 \t\t 0.51921725\n",
      "-0.8 \t -0.5 \t 28 \t\t 0.51921781\n",
      "-0.8 \t -0.4 \t 25 \t\t 0.51921922\n",
      "-0.8 \t -0.3 \t 24 \t\t 0.51921794\n",
      "-0.8 \t -0.2 \t 2 \t\t -0.19995063\n",
      "-0.8 \t -0.1 \t 2 \t\t -0.09998822\n",
      "-0.8 \t 0.0 \t 2 \t\t 0.00000273\n",
      "-0.8 \t 0.1 \t 2 \t\t 0.10000062\n",
      "-0.8 \t 0.2 \t 2 \t\t 0.20000014\n",
      "-0.8 \t 0.3 \t 2 \t\t 0.30000003\n",
      "-0.8 \t 0.4 \t 2 \t\t 0.40000001\n",
      "-0.8 \t 0.5 \t 2 \t\t 0.50000000\n",
      "-0.8 \t 0.6 \t 2 \t\t 0.59999999\n",
      "-0.8 \t 0.7 \t 2 \t\t 0.69999995\n",
      "-0.8 \t 0.8 \t 2 \t\t 0.79999970\n",
      "-0.8 \t 0.9 \t 2 \t\t 0.89999852\n",
      "Test 1.2 - punkt końcowy przedziału\n",
      "from\tto\titerations\tvalue\n",
      "-0.8 \t 0.9 \t 2 \t\t 0.89999852\n",
      "-0.7 \t 0.9 \t 2 \t\t 0.89999341\n",
      "-0.6 \t 0.9 \t 2 \t\t 0.89997059\n",
      "-0.5 \t 0.9 \t 15 \t\t 0.51921801\n",
      "-0.4 \t 0.9 \t 15 \t\t 0.51921800\n",
      "-0.3 \t 0.9 \t 15 \t\t 0.51921799\n",
      "-0.2 \t 0.9 \t 15 \t\t 0.51921796\n",
      "-0.1 \t 0.9 \t 14 \t\t 0.51921853\n",
      "0.0 \t 0.9 \t 12 \t\t 0.51921795\n",
      "0.1 \t 0.9 \t 7 \t\t 0.51921774\n",
      "0.2 \t 0.9 \t 11 \t\t 0.51921794\n",
      "0.3 \t 0.9 \t 10 \t\t 0.51921773\n",
      "0.4 \t 0.9 \t 8 \t\t 0.51921731\n",
      "0.5 \t 0.9 \t 6 \t\t 0.51921792\n",
      "0.6 \t 0.9 \t 9 \t\t 0.51921794\n",
      "0.7 \t 0.9 \t 11 \t\t 0.51921813\n",
      "0.8 \t 0.9 \t 13 \t\t 0.51921798\n",
      "Test 2.1 - punkt startowy przedziału\n",
      "from\tto\titerations\tvalue\n",
      "-0.8 \t -0.7 \t 30 \t\t 0.51715256\n",
      "-0.8 \t -0.6 \t 28 \t\t 0.51706455\n",
      "-0.8 \t -0.5 \t 26 \t\t 0.51828538\n",
      "-0.8 \t -0.4 \t 23 \t\t 0.50699694\n",
      "-0.8 \t -0.3 \t 21 \t\t 0.51244479\n",
      "-0.8 \t -0.2 \t 19 \t\t 0.51636833\n",
      "-0.8 \t -0.1 \t 17 \t\t 0.51856912\n",
      "-0.8 \t 0.0 \t 14 \t\t 0.50966585\n",
      "-0.8 \t 0.1 \t 12 \t\t 0.51507845\n",
      "-0.8 \t 0.2 \t 10 \t\t 0.51822371\n",
      "-0.8 \t 0.3 \t 7 \t\t 0.50947392\n",
      "-0.8 \t 0.4 \t 5 \t\t 0.51605083\n",
      "-0.8 \t 0.5 \t 3 \t\t 0.51961536\n",
      "-0.8 \t 0.6 \t 5 \t\t 0.52306226\n",
      "-0.8 \t 0.7 \t 8 \t\t 0.52185463\n",
      "-0.8 \t 0.8 \t 10 \t\t 0.52498230\n",
      "-0.8 \t 0.9 \t 12 \t\t 0.52628176\n",
      "Test 2.2 - punkt końcowy przedziału\n",
      "from\tto\titerations\tvalue\n",
      "-0.8 \t 0.9 \t 12 \t\t 0.52628176\n",
      "-0.7 \t 0.9 \t 12 \t\t 0.52628105\n",
      "-0.6 \t 0.9 \t 12 \t\t 0.52627785\n",
      "-0.5 \t 0.9 \t 12 \t\t 0.52626359\n",
      "-0.4 \t 0.9 \t 12 \t\t 0.52620019\n",
      "-0.3 \t 0.9 \t 12 \t\t 0.52592131\n",
      "-0.2 \t 0.9 \t 12 \t\t 0.52475332\n",
      "-0.1 \t 0.9 \t 11 \t\t 0.53051675\n",
      "0.0 \t 0.9 \t 9 \t\t 0.52386703\n",
      "0.1 \t 0.9 \t 5 \t\t 0.51794224\n",
      "0.2 \t 0.9 \t 8 \t\t 0.51282907\n",
      "0.3 \t 0.9 \t 8 \t\t 0.51802732\n",
      "0.4 \t 0.9 \t 6 \t\t 0.51718593\n",
      "0.5 \t 0.9 \t 4 \t\t 0.51961723\n",
      "0.6 \t 0.9 \t 6 \t\t 0.52254389\n",
      "0.7 \t 0.9 \t 8 \t\t 0.52805935\n",
      "0.8 \t 0.9 \t 10 \t\t 0.52557272\n"
     ]
    }
   ],
   "source": [
    "prec = 1e-4\n",
    "\n",
    "print(\"Test 1.1 - punkt startowy przedziału\")\n",
    "print(\"from\\tto\\titerations\\tvalue\")\n",
    "for x1 in np.arange(a*10, b*10+1, 1):\n",
    "    x1 = x1/10\n",
    "    if x1 != a:\n",
    "        i, result = secant_method(a, x1, prec, 1)\n",
    "        print(a, \"\\t\", x1, \"\\t\", i, \"\\t\\t\", '%.8f'%result)\n",
    "print(\"Test 1.2 - punkt końcowy przedziału\")\n",
    "print(\"from\\tto\\titerations\\tvalue\")\n",
    "for x0 in np.arange(a*10, b*10+1, 1):\n",
    "    x0 = x0/10\n",
    "    if x0 != b:\n",
    "        i, result = secant_method(x0, b, prec, 1)\n",
    "        print(x0, \"\\t\", b, \"\\t\", i, \"\\t\\t\", '%.8f'%result)\n",
    "print(\"Test 2.1 - punkt startowy przedziału\")\n",
    "print(\"from\\tto\\titerations\\tvalue\")\n",
    "for x1 in np.arange(a*10, b*10+1, 1):\n",
    "    x1 = x1/10\n",
    "    if x1 != a:\n",
    "        i, result = secant_method(a, x1, prec, 2)\n",
    "        print(a, \"\\t\", x1, \"\\t\", i, \"\\t\\t\", '%.8f'%result)\n",
    "print(\"Test 2.2 - punkt końcowy przedziału\")\n",
    "print(\"from\\tto\\titerations\\tvalue\")\n",
    "for x0 in np.arange(a*10, b*10+1, 1):\n",
    "    x0 = x0/10\n",
    "    if x0 != b:\n",
    "        i, result = secant_method(x0, b, prec, 2)\n",
    "        print(x0, \"\\t\", b, \"\\t\", i, \"\\t\\t\", '%.8f'%result)"
   ]
  },
  {
   "cell_type": "markdown",
   "metadata": {},
   "source": [
    "Precyzja 1e-6"
   ]
  },
  {
   "cell_type": "code",
   "execution_count": 161,
   "metadata": {
    "scrolled": false
   },
   "outputs": [
    {
     "name": "stdout",
     "output_type": "stream",
     "text": [
      "Test 1.1 - punkt startowy przedziału\n",
      "from\tto\titerations\tvalue\n",
      "-0.8 \t -0.7 \t 33 \t\t 0.51921794\n",
      "-0.8 \t -0.6 \t 31 \t\t 0.51921794\n",
      "-0.8 \t -0.5 \t 29 \t\t 0.51921794\n",
      "-0.8 \t -0.4 \t 27 \t\t 0.51921794\n",
      "-0.8 \t -0.3 \t 25 \t\t 0.51921794\n",
      "-0.8 \t -0.2 \t 23 \t\t 0.51921794\n",
      "-0.8 \t -0.1 \t 20 \t\t 0.51921794\n",
      "-0.8 \t 0.0 \t 18 \t\t 0.51921794\n",
      "-0.8 \t 0.1 \t 2 \t\t 0.10000062\n",
      "-0.8 \t 0.2 \t 2 \t\t 0.20000014\n",
      "-0.8 \t 0.3 \t 2 \t\t 0.30000003\n",
      "-0.8 \t 0.4 \t 2 \t\t 0.40000001\n",
      "-0.8 \t 0.5 \t 2 \t\t 0.50000000\n",
      "-0.8 \t 0.6 \t 2 \t\t 0.59999999\n",
      "-0.8 \t 0.7 \t 2 \t\t 0.69999995\n",
      "-0.8 \t 0.8 \t 2 \t\t 0.79999970\n",
      "-0.8 \t 0.9 \t 16 \t\t 0.51921794\n",
      "Test 1.2 - punkt końcowy przedziału\n",
      "from\tto\titerations\tvalue\n",
      "-0.8 \t 0.9 \t 16 \t\t 0.51921794\n",
      "-0.7 \t 0.9 \t 16 \t\t 0.51921794\n",
      "-0.6 \t 0.9 \t 16 \t\t 0.51921794\n",
      "-0.5 \t 0.9 \t 16 \t\t 0.51921794\n",
      "-0.4 \t 0.9 \t 16 \t\t 0.51921794\n",
      "-0.3 \t 0.9 \t 16 \t\t 0.51921794\n",
      "-0.2 \t 0.9 \t 16 \t\t 0.51921794\n",
      "-0.1 \t 0.9 \t 15 \t\t 0.51921794\n",
      "0.0 \t 0.9 \t 13 \t\t 0.51921794\n",
      "0.1 \t 0.9 \t 8 \t\t 0.51921794\n",
      "0.2 \t 0.9 \t 12 \t\t 0.51921794\n",
      "0.3 \t 0.9 \t 11 \t\t 0.51921794\n",
      "0.4 \t 0.9 \t 9 \t\t 0.51921794\n",
      "0.5 \t 0.9 \t 7 \t\t 0.51921794\n",
      "0.6 \t 0.9 \t 10 \t\t 0.51921794\n",
      "0.7 \t 0.9 \t 12 \t\t 0.51921794\n",
      "0.8 \t 0.9 \t 14 \t\t 0.51921794\n",
      "Test 2.1 - punkt startowy przedziału\n",
      "from\tto\titerations\tvalue\n",
      "-0.8 \t -0.7 \t 31 \t\t 0.51931007\n",
      "-0.8 \t -0.6 \t 29 \t\t 0.51931401\n",
      "-0.8 \t -0.5 \t 27 \t\t 0.51925744\n",
      "-0.8 \t -0.4 \t 24 \t\t 0.51917965\n",
      "-0.8 \t -0.3 \t 23 \t\t 0.51921363\n",
      "-0.8 \t -0.2 \t 21 \t\t 0.51921676\n",
      "-0.8 \t -0.1 \t 18 \t\t 0.51924439\n",
      "-0.8 \t 0.0 \t 16 \t\t 0.51921402\n",
      "-0.8 \t 0.1 \t 14 \t\t 0.51921566\n",
      "-0.8 \t 0.2 \t 11 \t\t 0.51926029\n",
      "-0.8 \t 0.3 \t 9 \t\t 0.51921444\n",
      "-0.8 \t 0.4 \t 7 \t\t 0.51921652\n",
      "-0.8 \t 0.5 \t 4 \t\t 0.51920010\n",
      "-0.8 \t 0.6 \t 7 \t\t 0.51922244\n",
      "-0.8 \t 0.7 \t 10 \t\t 0.51921940\n",
      "-0.8 \t 0.8 \t 12 \t\t 0.51923075\n",
      "-0.8 \t 0.9 \t 14 \t\t 0.51924071\n",
      "Test 2.2 - punkt końcowy przedziału\n",
      "from\tto\titerations\tvalue\n",
      "-0.8 \t 0.9 \t 14 \t\t 0.51924071\n",
      "-0.7 \t 0.9 \t 14 \t\t 0.51924071\n",
      "-0.6 \t 0.9 \t 14 \t\t 0.51924068\n",
      "-0.5 \t 0.9 \t 14 \t\t 0.51924055\n",
      "-0.4 \t 0.9 \t 14 \t\t 0.51923997\n",
      "-0.3 \t 0.9 \t 14 \t\t 0.51923757\n",
      "-0.2 \t 0.9 \t 14 \t\t 0.51922937\n",
      "-0.1 \t 0.9 \t 13 \t\t 0.51930607\n",
      "0.0 \t 0.9 \t 11 \t\t 0.51922494\n",
      "0.1 \t 0.9 \t 6 \t\t 0.51926471\n",
      "0.2 \t 0.9 \t 10 \t\t 0.51921387\n",
      "0.3 \t 0.9 \t 9 \t\t 0.51926979\n",
      "0.4 \t 0.9 \t 7 \t\t 0.51931010\n",
      "0.5 \t 0.9 \t 5 \t\t 0.51920024\n",
      "0.6 \t 0.9 \t 8 \t\t 0.51922095\n",
      "0.7 \t 0.9 \t 10 \t\t 0.51926156\n",
      "0.8 \t 0.9 \t 12 \t\t 0.51923483\n"
     ]
    }
   ],
   "source": [
    "prec = 1e-6\n",
    "\n",
    "print(\"Test 1.1 - punkt startowy przedziału\")\n",
    "print(\"from\\tto\\titerations\\tvalue\")\n",
    "for x1 in np.arange(a*10, b*10+1, 1):\n",
    "    x1 = x1/10\n",
    "    if x1 != a:\n",
    "        i, result = secant_method(a, x1, prec, 1)\n",
    "        print(a, \"\\t\", x1, \"\\t\", i, \"\\t\\t\", '%.8f'%result)\n",
    "print(\"Test 1.2 - punkt końcowy przedziału\")\n",
    "print(\"from\\tto\\titerations\\tvalue\")\n",
    "for x0 in np.arange(a*10, b*10+1, 1):\n",
    "    x0 = x0/10\n",
    "    if x0 != b:\n",
    "        i, result = secant_method(x0, b, prec, 1)\n",
    "        print(x0, \"\\t\", b, \"\\t\", i, \"\\t\\t\", '%.8f'%result)\n",
    "print(\"Test 2.1 - punkt startowy przedziału\")\n",
    "print(\"from\\tto\\titerations\\tvalue\")\n",
    "for x1 in np.arange(a*10, b*10+1, 1):\n",
    "    x1 = x1/10\n",
    "    if x1 != a:\n",
    "        i, result = secant_method(a, x1, prec, 2)\n",
    "        print(a, \"\\t\", x1, \"\\t\", i, \"\\t\\t\", '%.8f'%result)\n",
    "print(\"Test 2.2 - punkt końcowy przedziału\")\n",
    "print(\"from\\tto\\titerations\\tvalue\")\n",
    "for x0 in np.arange(a*10, b*10+1, 1):\n",
    "    x0 = x0/10\n",
    "    if x0 != b:\n",
    "        i, result = secant_method(x0, b, prec, 2)\n",
    "        print(x0, \"\\t\", b, \"\\t\", i, \"\\t\\t\", '%.8f'%result)"
   ]
  },
  {
   "cell_type": "markdown",
   "metadata": {},
   "source": [
    "## Zadanie 2 - układ równań"
   ]
  },
  {
   "cell_type": "markdown",
   "metadata": {},
   "source": [
    "Układ do rozwiązania"
   ]
  },
  {
   "cell_type": "markdown",
   "metadata": {},
   "source": [
    "$ x_{1}^{2} + x_{2}^{2} - x_{3}^{2} = 1 $  \n",
    "$ x_{1} - 2x_{2}^{3} + 2x_{3}^{2} = -1 $  \n",
    "$ 2x_{1}^{2} + x_{2} - 2x_{3}^{2} = 1 $  "
   ]
  },
  {
   "cell_type": "code",
   "execution_count": 27,
   "metadata": {},
   "outputs": [],
   "source": [
    "def func_vector_at_(vector):\n",
    "    func = np.zeros(3, float)\n",
    "    func[0] = vector[0]**2 + vector[1]**2 - vector[2]**2 - 1\n",
    "    func[1] = vector[0] - 2*vector[1]**3 + 2*vector[2]**2 + 1\n",
    "    func[2] = 2*vector[0]**2 + vector[1] - 2*vector[2]**2 - 1\n",
    "    return func"
   ]
  },
  {
   "cell_type": "code",
   "execution_count": 28,
   "metadata": {},
   "outputs": [],
   "source": [
    "def jacobi_matrix_at_(vector):\n",
    "    matrix = np.zeros((3, 3))\n",
    "    matrix[0, 0] = 2*vector[0]\n",
    "    matrix[0, 1] = 2*vector[1]\n",
    "    matrix[0, 2] = -2*vector[2]\n",
    "    matrix[1, 0] = 1\n",
    "    matrix[1, 1] = -6*vector[1]**2\n",
    "    matrix[1, 2] = 4*vector[2]\n",
    "    matrix[2, 0] = 4*vector[0]\n",
    "    matrix[2, 1] = 1\n",
    "    matrix[2, 2] = -4*vector[2]\n",
    "    return matrix"
   ]
  },
  {
   "cell_type": "code",
   "execution_count": 214,
   "metadata": {},
   "outputs": [],
   "source": [
    "def Newton(x0, prec, breaker):\n",
    "    iterator = 1\n",
    "    # print(x0)\n",
    "    while 1:\n",
    "        if iterator == 250:\n",
    "            return None, None\n",
    "        s = np.linalg.solve(jacobi_matrix_at_(x0), func_vector_at_(x0))\n",
    "        x1 = x0 - s\n",
    "        # print(x1)\n",
    "        if breaker == 1:\n",
    "            if np.linalg.norm(s) < prec:\n",
    "                return iterator, x1\n",
    "        else:\n",
    "            if max(abs(s)) < prec:\n",
    "                return iterator, x1\n",
    "        x0 = x1\n",
    "        iterator += 1"
   ]
  },
  {
   "cell_type": "code",
   "execution_count": 215,
   "metadata": {},
   "outputs": [
    {
     "data": {
      "text/plain": [
       "(None, None)"
      ]
     },
     "execution_count": 215,
     "metadata": {},
     "output_type": "execute_result"
    }
   ],
   "source": [
    "Newton(np.array([-1.435, -0.183, -0.081]), 1e-4, 1)"
   ]
  },
  {
   "cell_type": "markdown",
   "metadata": {},
   "source": [
    "#### Testy metody"
   ]
  },
  {
   "cell_type": "markdown",
   "metadata": {},
   "source": [
    "Generowanie wektorów"
   ]
  },
  {
   "cell_type": "code",
   "execution_count": 187,
   "metadata": {},
   "outputs": [],
   "source": [
    "sigma = 1.\n",
    "uniform = np.round(np.random.uniform(-50., 50., (5, 3)), 3)\n",
    "mvn = np.round(np.random.multivariate_normal(np.zeros(3), sigma*np.eye(3), 5), 3)\n",
    "data = np.concatenate((uniform, mvn))"
   ]
  },
  {
   "cell_type": "markdown",
   "metadata": {},
   "source": [
    "Precyzja 1e-2"
   ]
  },
  {
   "cell_type": "code",
   "execution_count": 188,
   "metadata": {},
   "outputs": [
    {
     "name": "stdout",
     "output_type": "stream",
     "text": [
      "Test 1\n",
      "[ 44.781  16.78  -23.306];15;[ 0.5  1.  -0.5]\n",
      "[ 25.359 -21.168  26.449];None;None\n",
      "[ 49.535  14.407 -22.362];8;[ 0.5       1.       -0.500001]\n",
      "[ 1.913 11.253 -7.763];11;[-1.000054  1.        1.000018]\n",
      "[44.57  48.32   4.215];17;[-1.  1. -1.]\n",
      "[-0.913  0.376 -1.488];9;[0.500001 1.       0.5     ]\n",
      "[-0.545  1.161  0.541];4;[-1.000001  1.        1.000001]\n",
      "[-1.435 -0.183 -0.081];None;None\n",
      "[ 0.971  1.058 -0.237];3;[ 0.500015  1.       -0.499993]\n",
      "[0.561 0.888 0.041];6;[0.5      1.       0.500019]\n",
      "Test 2\n",
      "[ 44.781  16.78  -23.306];15;[ 0.5  1.  -0.5]\n",
      "[ 25.359 -21.168  26.449];None;None\n",
      "[ 49.535  14.407 -22.362];8;[ 0.5       1.       -0.500001]\n",
      "[ 1.913 11.253 -7.763];11;[-1.000054  1.        1.000018]\n",
      "[44.57  48.32   4.215];17;[-1.  1. -1.]\n",
      "[-0.913  0.376 -1.488];9;[0.500001 1.       0.5     ]\n",
      "[-0.545  1.161  0.541];4;[-1.000001  1.        1.000001]\n",
      "[-1.435 -0.183 -0.081];None;None\n",
      "[ 0.971  1.058 -0.237];3;[ 0.500015  1.       -0.499993]\n",
      "[0.561 0.888 0.041];6;[0.5      1.       0.500019]\n"
     ]
    }
   ],
   "source": [
    "prec = 1e-2\n",
    "\n",
    "print(\"Test 1\")\n",
    "for vector in data:\n",
    "    i, result = Newton(vector, prec, 1)\n",
    "    text = str(vector) + \";\" + str(i) + \";\" +str(np.round(result,6) if result is not None else None)\n",
    "    print(text)\n",
    "print(\"Test 2\")\n",
    "for vector in data:\n",
    "    i, result = Newton(vector, prec, 2)\n",
    "    text = str(vector) + \";\" + str(i) + \";\" +str(np.round(result,6) if result is not None else None)\n",
    "    print(text)"
   ]
  },
  {
   "cell_type": "markdown",
   "metadata": {},
   "source": [
    "Precyzja 1e-4"
   ]
  },
  {
   "cell_type": "code",
   "execution_count": 189,
   "metadata": {},
   "outputs": [
    {
     "name": "stdout",
     "output_type": "stream",
     "text": [
      "Test 1\n",
      "[ 44.781  16.78  -23.306];16;[ 0.5  1.  -0.5]\n",
      "[ 25.359 -21.168  26.449];None;None\n",
      "[ 49.535  14.407 -22.362];9;[ 0.5  1.  -0.5]\n",
      "[ 1.913 11.253 -7.763];12;[-1.  1.  1.]\n",
      "[44.57  48.32   4.215];17;[-1.  1. -1.]\n",
      "[-0.913  0.376 -1.488];10;[0.5 1.  0.5]\n",
      "[-0.545  1.161  0.541];5;[-1.  1.  1.]\n",
      "[-1.435 -0.183 -0.081];None;None\n",
      "[ 0.971  1.058 -0.237];4;[ 0.5  1.  -0.5]\n",
      "[0.561 0.888 0.041];7;[0.5 1.  0.5]\n",
      "Test 2\n",
      "[ 44.781  16.78  -23.306];16;[ 0.5  1.  -0.5]\n",
      "[ 25.359 -21.168  26.449];None;None\n",
      "[ 49.535  14.407 -22.362];9;[ 0.5  1.  -0.5]\n",
      "[ 1.913 11.253 -7.763];12;[-1.  1.  1.]\n",
      "[44.57  48.32   4.215];17;[-1.  1. -1.]\n",
      "[-0.913  0.376 -1.488];10;[0.5 1.  0.5]\n",
      "[-0.545  1.161  0.541];5;[-1.  1.  1.]\n",
      "[-1.435 -0.183 -0.081];None;None\n",
      "[ 0.971  1.058 -0.237];4;[ 0.5  1.  -0.5]\n",
      "[0.561 0.888 0.041];7;[0.5 1.  0.5]\n"
     ]
    }
   ],
   "source": [
    "prec = 1e-4\n",
    "\n",
    "print(\"Test 1\")\n",
    "for vector in data:\n",
    "    i, result = Newton(vector, prec, 1)\n",
    "    text = str(vector) + \";\" + str(i) + \";\" +str(np.round(result,6) if result is not None else None)\n",
    "    print(text)\n",
    "print(\"Test 2\")\n",
    "for vector in data:\n",
    "    i, result = Newton(vector, prec, 2)\n",
    "    text = str(vector) + \";\" + str(i) + \";\" +str(np.round(result,6) if result is not None else None)\n",
    "    print(text)"
   ]
  },
  {
   "cell_type": "markdown",
   "metadata": {},
   "source": [
    "Precyzja 1e-6"
   ]
  },
  {
   "cell_type": "code",
   "execution_count": 190,
   "metadata": {},
   "outputs": [
    {
     "name": "stdout",
     "output_type": "stream",
     "text": [
      "Test 1\n",
      "[ 44.781  16.78  -23.306];16;[ 0.5  1.  -0.5]\n",
      "[ 25.359 -21.168  26.449];None;None\n",
      "[ 49.535  14.407 -22.362];9;[ 0.5  1.  -0.5]\n",
      "[ 1.913 11.253 -7.763];13;[-1.  1.  1.]\n",
      "[44.57  48.32   4.215];18;[-1.  1. -1.]\n",
      "[-0.913  0.376 -1.488];10;[0.5 1.  0.5]\n",
      "[-0.545  1.161  0.541];6;[-1.  1.  1.]\n",
      "[-1.435 -0.183 -0.081];None;None\n",
      "[ 0.971  1.058 -0.237];5;[ 0.5  1.  -0.5]\n",
      "[0.561 0.888 0.041];8;[0.5 1.  0.5]\n",
      "Test 2\n",
      "[ 44.781  16.78  -23.306];16;[ 0.5  1.  -0.5]\n",
      "[ 25.359 -21.168  26.449];None;None\n",
      "[ 49.535  14.407 -22.362];9;[ 0.5  1.  -0.5]\n",
      "[ 1.913 11.253 -7.763];13;[-1.  1.  1.]\n",
      "[44.57  48.32   4.215];18;[-1.  1. -1.]\n",
      "[-0.913  0.376 -1.488];10;[0.5 1.  0.5]\n",
      "[-0.545  1.161  0.541];5;[-1.  1.  1.]\n",
      "[-1.435 -0.183 -0.081];None;None\n",
      "[ 0.971  1.058 -0.237];5;[ 0.5  1.  -0.5]\n",
      "[0.561 0.888 0.041];8;[0.5 1.  0.5]\n"
     ]
    }
   ],
   "source": [
    "prec = 1e-6\n",
    "\n",
    "print(\"Test 1\")\n",
    "for vector in data:\n",
    "    i, result = Newton(vector, prec, 1)\n",
    "    text = str(vector) + \";\" + str(i) + \";\" +str(np.round(result,6) if result is not None else None)\n",
    "    print(text)\n",
    "print(\"Test 2\")\n",
    "for vector in data:\n",
    "    i, result = Newton(vector, prec, 2)\n",
    "    text = str(vector) + \";\" + str(i) + \";\" +str(np.round(result,6) if result is not None else None)\n",
    "    print(text)"
   ]
  }
 ],
 "metadata": {
  "kernelspec": {
   "display_name": "Python 3",
   "language": "python",
   "name": "python3"
  },
  "language_info": {
   "codemirror_mode": {
    "name": "ipython",
    "version": 3
   },
   "file_extension": ".py",
   "mimetype": "text/x-python",
   "name": "python",
   "nbconvert_exporter": "python",
   "pygments_lexer": "ipython3",
   "version": "3.9.2"
  }
 },
 "nbformat": 4,
 "nbformat_minor": 4
}
