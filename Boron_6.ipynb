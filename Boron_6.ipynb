{
 "cells": [
  {
   "cell_type": "markdown",
   "metadata": {},
   "source": [
    "# MOwNiT - laboratorium 6"
   ]
  },
  {
   "cell_type": "markdown",
   "metadata": {},
   "source": [
    "## Autor: Tomasz Boroń"
   ]
  },
  {
   "cell_type": "markdown",
   "metadata": {},
   "source": [
    "## Temat: Rozwiązywanie układów równań liniowych metodami bezpośrednimi"
   ]
  },
  {
   "cell_type": "markdown",
   "metadata": {},
   "source": [
    "#### Importy"
   ]
  },
  {
   "cell_type": "code",
   "execution_count": 206,
   "metadata": {},
   "outputs": [],
   "source": [
    "import numpy as np\n",
    "from time import time"
   ]
  },
  {
   "cell_type": "markdown",
   "metadata": {},
   "source": [
    "#### Zadanie 1"
   ]
  },
  {
   "cell_type": "code",
   "execution_count": 207,
   "metadata": {},
   "outputs": [],
   "source": [
    "def cond(A):\n",
    "    return np.linalg.norm(A) * np.linalg.norm(np.linalg.inv(A))"
   ]
  },
  {
   "cell_type": "code",
   "execution_count": 208,
   "metadata": {},
   "outputs": [],
   "source": [
    "def permutation(n):\n",
    "    values = np.array([-1, 1])\n",
    "    return np.random.choice(values, n).reshape(-1,1)"
   ]
  },
  {
   "cell_type": "code",
   "execution_count": 209,
   "metadata": {},
   "outputs": [],
   "source": [
    "def matrix_A(n):\n",
    "    i, j = np.ogrid[1:n+1, 1:n+1]\n",
    "    return np.where(i == 1, 1, 1/(i+j-1))"
   ]
  },
  {
   "cell_type": "code",
   "execution_count": 210,
   "metadata": {},
   "outputs": [],
   "source": [
    "def calc_system(n):\n",
    "    A = matrix_A(n).astype(np.float64)\n",
    "    x = permutation(n).astype(np.float64)\n",
    "    b = A @ x\n",
    "    b = b.astype(np.float64)\n",
    "    return A, x, b"
   ]
  },
  {
   "cell_type": "code",
   "execution_count": 211,
   "metadata": {},
   "outputs": [],
   "source": [
    "def Gaussian_elimination_solve(A, b):\n",
    "    n = A.shape[0]\n",
    "    x = np.array([None]*n)\n",
    "    for i in range(1, n):\n",
    "        p = i\n",
    "        while p <= n and A[p-1, i-1] == 0:\n",
    "            p += 1\n",
    "        if p > n:\n",
    "            return x # no solution\n",
    "        if p != i:\n",
    "            A[[p-1, i-1]] = A[[i-1, p-1]]\n",
    "            b[[p-1, i-1]] = b[[i-1, p-1]]\n",
    "        for j in range(i+1, n+1):\n",
    "            b[j-1] = b[j-1] - A[j-1, i-1]/A[i-1, i-1] * b[i-1]\n",
    "            A[j-1] = A[j-1] - A[j-1, i-1]/A[i-1, i-1] * A[i-1]\n",
    "    if A[-1,-1] == 0:\n",
    "        return x # no solution\n",
    "    x[-1] = (b[-1]/A[-1][-1]).item()\n",
    "    for i in range(n-1, 0, -1):\n",
    "        components = [(A[i-1][j-1]*x[j-1]).item() for j in range(i+1, n+1)]\n",
    "        s = sum(components)\n",
    "        x[i-1] = ((b[i-1] - s)/A[i-1][i-1]).item()\n",
    "    return x.astype(np.float64)"
   ]
  },
  {
   "cell_type": "code",
   "execution_count": 212,
   "metadata": {},
   "outputs": [],
   "source": [
    "def Euclidean_norm(x, true_x):\n",
    "    x = x[:, np.newaxis]\n",
    "    x.reshape(-1,1)\n",
    "    diff = x-true_x\n",
    "    return np.linalg.norm(diff)"
   ]
  },
  {
   "cell_type": "markdown",
   "metadata": {},
   "source": [
    "#### Testy"
   ]
  },
  {
   "cell_type": "code",
   "execution_count": 213,
   "metadata": {},
   "outputs": [
    {
     "name": "stdout",
     "output_type": "stream",
     "text": [
      "39.105422617575044\n"
     ]
    }
   ],
   "source": [
    "A, true_x, b = calc_system(40)\n",
    "x = Gaussian_elimination_solve(A, b)\n",
    "print(Euclidean_norm(x, true_x))"
   ]
  },
  {
   "cell_type": "code",
   "execution_count": 214,
   "metadata": {},
   "outputs": [],
   "source": [
    "sizes = [i for i in range(2,21)] + [i for i in range(30, 301, 10)]"
   ]
  },
  {
   "cell_type": "code",
   "execution_count": 217,
   "metadata": {},
   "outputs": [
    {
     "name": "stdout",
     "output_type": "stream",
     "text": [
      "Rozmiar\tbłąd\twsp. uwarunkowania\n",
      "2 \t 3.1401849173675503e-16 \t 12.17\n",
      "3 \t 2.9394713984828794e-15 \t 394.94\n",
      "4 \t 8.182034871928232e-14 \t 10939.83\n",
      "5 \t 1.7685517830465595e-12 \t 285570.81\n",
      "6 \t 2.8819480361096262e-11 \t 7235614.82\n",
      "7 \t 4.083043814620624e-09 \t 180108325.27\n",
      "8 \t 4.17772144158989e-08 \t 4431094989.99\n",
      "9 \t 6.180248027093087e-07 \t 108118358285.88\n",
      "10 \t 1.791650982045308e-06 \t 2622157275555.77\n",
      "11 \t 0.007280334885360305 \t 63389553544651.59\n",
      "12 \t 0.311133716335229 \t 1541027102529236.75\n",
      "13 \t 16.527890106927682 \t 18696521288935588.00\n",
      "14 \t 1.280149409255502 \t 22730066800986588.00\n",
      "15 \t 11.869452732426273 \t 34791482121825844.00\n",
      "16 \t 2.6999562572226923 \t 46105747905484240.00\n",
      "17 \t 16.221120805960904 \t 181619577812587488.00\n",
      "18 \t 207.00480413868132 \t 1457917769110047232.00\n",
      "19 \t 88.18382633953527 \t 1894322649431672832.00\n",
      "20 \t 170.5145524868215 \t 4740890254973277184.00\n",
      "30 \t 34.55957623909379 \t 9715343008630319104.00\n",
      "40 \t 198.66530893680374 \t 23484083450788077568.00\n",
      "50 \t 86.89811175450342 \t 47354836189902700544.00\n",
      "60 \t 118.32898085543198 \t 246843306895662645248.00\n",
      "70 \t 3628.895363734968 \t 292528082889766862848.00\n",
      "80 \t 315.7645942353805 \t 316573834778833780736.00\n",
      "90 \t 55.550907043475185 \t 399667504309804466176.00\n",
      "100 \t 465.3019042778332 \t 632658906443374526464.00\n",
      "110 \t 185.10993369190334 \t 674753974864008839168.00\n",
      "120 \t 282.81339615345166 \t 713308677157156552704.00\n",
      "130 \t 531.552548160791 \t 763072855220689174528.00\n",
      "140 \t 2610.810081443094 \t 856088028235746246656.00\n",
      "150 \t 1581.1307175082372 \t 7775471954583883874304.00\n",
      "160 \t 1695.2201078833998 \t 8045608212908551962624.00\n",
      "170 \t 816.1352737965716 \t 8313874619548287631360.00\n",
      "180 \t 1283.9442526230298 \t 9105132931419531640832.00\n",
      "190 \t 1135.982750759714 \t 9567828491002968014848.00\n",
      "200 \t 661.7943575698058 \t 9834596421301388181504.00\n",
      "210 \t 172.8822084654199 \t 10090336384843612422144.00\n",
      "220 \t 4667.013363094618 \t 10363243015467666767872.00\n",
      "230 \t 852.5798375003235 \t 10689129610649479938048.00\n",
      "240 \t 12115.6759004652 \t 11300705899417176113152.00\n",
      "250 \t 840.5702492328388 \t 11732869738469663965184.00\n",
      "260 \t 493.25976392406 \t 12075292552817201381376.00\n",
      "270 \t 653.6661554753748 \t 12358784869081550946304.00\n",
      "280 \t 775.7058847929067 \t 12642797966700989906944.00\n",
      "290 \t 901.0823387973494 \t 12883392524843149688832.00\n",
      "300 \t 830.0101605253614 \t 13349556739372277039104.00\n"
     ]
    }
   ],
   "source": [
    "print(\"Rozmiar\\tbłąd\\twsp. uwarunkowania\")\n",
    "for i in sizes:\n",
    "    A, true_x, b = calc_system(i)\n",
    "    x = Gaussian_elimination_solve(A, b)\n",
    "    print(i, \"\\t\" , Euclidean_norm(x, true_x), \"\\t\", '%.2f'%cond(A))"
   ]
  },
  {
   "cell_type": "markdown",
   "metadata": {},
   "source": [
    "#### Zadanie 2"
   ]
  },
  {
   "cell_type": "code",
   "execution_count": 218,
   "metadata": {},
   "outputs": [],
   "source": [
    "# redefinicja aby nie kopiować podobnego kodu wykorzystam calc_system, chcąc wrócić do pierwszej wersji trzeba nadpisać tą\n",
    "def matrix_A(n):\n",
    "    i, j = np.ogrid[1:n+1, 1:n+1]\n",
    "    A = np.where(j>=i, 2*i/j, 0)\n",
    "    A = np.where(j<i, A[j-1, i-1], A[i-1, j-1])\n",
    "    return A"
   ]
  },
  {
   "cell_type": "markdown",
   "metadata": {},
   "source": [
    "#### Testy"
   ]
  },
  {
   "cell_type": "code",
   "execution_count": 219,
   "metadata": {},
   "outputs": [
    {
     "name": "stdout",
     "output_type": "stream",
     "text": [
      "[ 1.  1. -1. -1. -1.]\n"
     ]
    }
   ],
   "source": [
    "A, true_x, b = calc_system(5)\n",
    "x = Gaussian_elimination_solve(A, b)\n",
    "# print(Euclidean_norm(x, true_x))\n",
    "print(x)"
   ]
  },
  {
   "cell_type": "code",
   "execution_count": 220,
   "metadata": {},
   "outputs": [
    {
     "name": "stdout",
     "output_type": "stream",
     "text": [
      "Rozmiar\tbłąd\twsp. uwarunkowania\n",
      "2 \t 0.0 \t 2.42\n",
      "3 \t 5.438959822042073e-16 \t 4.43\n",
      "4 \t 5.661048867003676e-16 \t 7.00\n",
      "5 \t 1.2994827337208943e-15 \t 10.09\n",
      "6 \t 2.02900661633277e-15 \t 13.66\n",
      "7 \t 6.216257588307092e-15 \t 17.68\n",
      "8 \t 7.985892173480755e-15 \t 22.13\n",
      "9 \t 4.600397697252103e-15 \t 26.99\n",
      "10 \t 1.3742121566152869e-14 \t 32.24\n",
      "11 \t 5.56774356313731e-15 \t 37.87\n",
      "12 \t 1.1228082357002595e-14 \t 43.87\n",
      "13 \t 1.3350403019136626e-14 \t 50.21\n",
      "14 \t 9.024959194593041e-15 \t 56.91\n",
      "15 \t 1.3483611784316362e-14 \t 63.93\n",
      "16 \t 1.727601207193698e-14 \t 71.28\n",
      "17 \t 1.9109708772221206e-14 \t 78.95\n",
      "18 \t 2.5515330958796677e-14 \t 86.93\n",
      "19 \t 4.8240819315771544e-14 \t 95.21\n",
      "20 \t 4.101173470478899e-14 \t 103.78\n",
      "30 \t 6.671276481967732e-14 \t 204.76\n",
      "40 \t 2.949154865380035e-13 \t 330.69\n",
      "50 \t 1.9589195497100437e-13 \t 478.80\n",
      "60 \t 3.2106104659432773e-13 \t 647.16\n",
      "70 \t 7.78450748473507e-13 \t 834.28\n",
      "80 \t 8.39558175510758e-13 \t 1039.02\n",
      "90 \t 1.1147932988523473e-12 \t 1260.41\n",
      "100 \t 1.7191632969082707e-12 \t 1497.65\n",
      "110 \t 3.8891774671571e-12 \t 1750.06\n",
      "120 \t 3.745889665104572e-12 \t 2017.04\n",
      "130 \t 6.515881436361595e-12 \t 2298.07\n",
      "140 \t 3.5320082492808777e-12 \t 2592.67\n",
      "150 \t 5.207903163053464e-12 \t 2900.43\n",
      "160 \t 4.2908483620136375e-12 \t 3220.97\n",
      "170 \t 6.0246996581981105e-12 \t 3553.94\n",
      "180 \t 6.174487139496338e-12 \t 3899.02\n",
      "190 \t 5.619022435714075e-12 \t 4255.93\n",
      "200 \t 1.1986230371732436e-11 \t 4624.38\n",
      "210 \t 1.1323359503871381e-11 \t 5004.14\n",
      "220 \t 1.5089063173241526e-11 \t 5394.96\n",
      "230 \t 1.1191516141521958e-11 \t 5796.64\n",
      "240 \t 1.948223068475068e-11 \t 6208.95\n",
      "250 \t 1.5389339012959718e-11 \t 6631.72\n",
      "260 \t 1.8229446075529333e-11 \t 7064.76\n",
      "270 \t 1.9397123093596836e-11 \t 7507.89\n",
      "280 \t 2.4459688032635044e-11 \t 7960.96\n",
      "290 \t 1.739766633847151e-11 \t 8423.80\n",
      "300 \t 1.908424018719157e-11 \t 8896.28\n"
     ]
    }
   ],
   "source": [
    "print(\"Rozmiar\\tbłąd\\twsp. uwarunkowania\")\n",
    "for i in sizes:\n",
    "    A, true_x, b = calc_system(i)\n",
    "    x = Gaussian_elimination_solve(A, b)\n",
    "    print(i, \"\\t\" , Euclidean_norm(x, true_x), \"\\t\", '%.2f'%cond(A))"
   ]
  },
  {
   "cell_type": "markdown",
   "metadata": {},
   "source": [
    "#### Zadanie 3"
   ]
  },
  {
   "cell_type": "code",
   "execution_count": 221,
   "metadata": {},
   "outputs": [],
   "source": [
    "# redefinicja aby nie kopiować podobnego kodu wykorzystam calc_system, chcąc wrócić do innej wersji trzeba nadpisać tą\n",
    "def matrix_A(n):\n",
    "    i, j = np.ogrid[1:n+1, 1:n+1]\n",
    "    A = np.where(j == i, 7, 0)\n",
    "    A = np.where(j == i + 1, 1/(i+3), A[i-1, j-1])\n",
    "    A = np.where(j == i - 1, 7/(i+4), A[i-1, j-1])\n",
    "    return A"
   ]
  },
  {
   "cell_type": "code",
   "execution_count": 222,
   "metadata": {},
   "outputs": [
    {
     "name": "stdout",
     "output_type": "stream",
     "text": [
      "[ 1. -1. -1. -1.]\n"
     ]
    }
   ],
   "source": [
    "A, true_x, b = calc_system(4)\n",
    "x = Gaussian_elimination_solve(A, b)\n",
    "print(x)"
   ]
  },
  {
   "cell_type": "code",
   "execution_count": 223,
   "metadata": {},
   "outputs": [
    {
     "name": "stdout",
     "output_type": "stream",
     "text": [
      "Rozmiar\tbłąd\tczas\n",
      "2 \t 0.0 \t 0.0000\n",
      "3 \t 0.0 \t 0.0000\n",
      "4 \t 0.0 \t 0.0000\n",
      "5 \t 0.0 \t 0.0000\n",
      "6 \t 3.1401849173675503e-16 \t 0.0000\n",
      "7 \t 3.3306690738754696e-16 \t 0.0010\n",
      "8 \t 3.1401849173675503e-16 \t 0.0010\n",
      "9 \t 3.3306690738754696e-16 \t 0.0020\n",
      "10 \t 0.0 \t 0.0010\n",
      "11 \t 2.482534153247273e-16 \t 0.0020\n",
      "12 \t 2.7194799110210365e-16 \t 0.0030\n",
      "13 \t 3.510833468576701e-16 \t 0.0000\n",
      "14 \t 5.20740757162067e-16 \t 0.0010\n",
      "15 \t 4.002966042486721e-16 \t 0.0010\n",
      "16 \t 4.1540741810552243e-16 \t 0.0020\n",
      "17 \t 5.20740757162067e-16 \t 0.0030\n",
      "18 \t 2.482534153247273e-16 \t 0.0020\n",
      "19 \t 3.8459253727671276e-16 \t 0.0020\n",
      "20 \t 4.1540741810552243e-16 \t 0.0020\n",
      "30 \t 4.965068306494546e-16 \t 0.0040\n",
      "40 \t 6.280369834735101e-16 \t 0.0060\n",
      "50 \t 5.661048867003676e-16 \t 0.0090\n",
      "60 \t 8.005932084973442e-16 \t 0.0130\n",
      "70 \t 7.771561172376096e-16 \t 0.0171\n",
      "80 \t 8.3820000221454525e-16 \t 0.0258\n",
      "90 \t 8.527784864785346e-16 \t 0.0262\n",
      "100 \t 9.742167503148516e-16 \t 0.0400\n",
      "110 \t 1.1046579618885443e-15 \t 0.0690\n",
      "120 \t 9.742167503148516e-16 \t 0.0651\n",
      "130 \t 1.047382306668854e-15 \t 0.0900\n",
      "140 \t 1.0355470984145593e-15 \t 0.1180\n",
      "150 \t 1.1749496091904413e-15 \t 0.1100\n",
      "160 \t 1.1905815549843721e-15 \t 0.1732\n",
      "170 \t 1.1157603309187458e-15 \t 0.1261\n",
      "180 \t 1.2803716525534355e-15 \t 0.1479\n",
      "190 \t 1.2060109012779447e-15 \t 0.1802\n",
      "200 \t 1.2462222543165673e-15 \t 0.1982\n",
      "210 \t 1.3089336417583914e-15 \t 0.2453\n",
      "220 \t 1.4217791915866692e-15 \t 0.2578\n",
      "230 \t 1.434724337481273e-15 \t 0.2756\n",
      "240 \t 1.472877282518059e-15 \t 0.3039\n",
      "250 \t 1.4304223057953898e-15 \t 0.2886\n",
      "260 \t 1.3322676295501878e-15 \t 0.4436\n",
      "270 \t 1.4475537224895361e-15 \t 0.3436\n",
      "280 \t 1.3866681133119837e-15 \t 0.7154\n",
      "290 \t 1.4390135079995448e-15 \t 0.6163\n",
      "300 \t 1.4895204919483639e-15 \t 0.4484\n"
     ]
    }
   ],
   "source": [
    "print(\"Rozmiar\\tbłąd\\tczas\")\n",
    "for i in sizes:\n",
    "    A, true_x, b = calc_system(i)\n",
    "    s_time = time()\n",
    "    x = Gaussian_elimination_solve(A, b)\n",
    "    e_time = time()\n",
    "    print(i, \"\\t\" ,Euclidean_norm(x, true_x), \"\\t\", '%.4f'%float(e_time-s_time))"
   ]
  },
  {
   "cell_type": "code",
   "execution_count": 224,
   "metadata": {},
   "outputs": [],
   "source": [
    "def Thomas_solve(b, n):\n",
    "    x = [None]*n\n",
    "    a_coef = [0] + [7/(i+4) for i in range(2, n+1)]\n",
    "    b_coef = [7]*n\n",
    "    c_coef = [1/(i+3) for i in range(1, n)] + [0]\n",
    "    d_coef = [elem[0] for elem in b.tolist()]\n",
    "    s_time = time()\n",
    "    beta_coef = [-c_coef[0]/b_coef[0]]\n",
    "    gamma_coef = [d_coef[0]/b_coef[0]]\n",
    "    for i in range(1, n):\n",
    "        beta_coef.append(-c_coef[i]/(a_coef[i]*beta_coef[i-1]+b_coef[i]))\n",
    "        gamma_coef.append((d_coef[i]-a_coef[i]*gamma_coef[i-1])/(a_coef[i]*beta_coef[i-1]+b_coef[i]))\n",
    "    x[-1] = gamma_coef[-1]\n",
    "    for i in range(n-2, -1, -1):\n",
    "        x[i] = beta_coef[i]*x[i+1]+gamma_coef[i]\n",
    "    e_time = time()\n",
    "    return x, e_time-s_time"
   ]
  },
  {
   "cell_type": "code",
   "execution_count": 225,
   "metadata": {},
   "outputs": [
    {
     "name": "stdout",
     "output_type": "stream",
     "text": [
      "([-1.0, -0.9999999999999999, -1.0, 1.0], 0.0)\n"
     ]
    }
   ],
   "source": [
    "n = 4\n",
    "A, true_x, b = calc_system(n)\n",
    "x = Thomas_solve(b, n)\n",
    "print(x)"
   ]
  },
  {
   "cell_type": "code",
   "execution_count": 226,
   "metadata": {
    "scrolled": false
   },
   "outputs": [
    {
     "name": "stdout",
     "output_type": "stream",
     "text": [
      "Rozmiar\tbłąd\tczas\n",
      "2 \t 1.1102230246251565e-16 \t 0.0000\n",
      "3 \t 1.1102230246251565e-16 \t 0.0000\n",
      "4 \t 2.220446049250313e-16 \t 0.0000\n",
      "5 \t 2.482534153247273e-16 \t 0.0000\n",
      "6 \t 2.7194799110210365e-16 \t 0.0000\n",
      "7 \t 2.482534153247273e-16 \t 0.0000\n",
      "8 \t 2.220446049250313e-16 \t 0.0000\n",
      "9 \t 2.220446049250313e-16 \t 0.0000\n",
      "10 \t 0.0 \t 0.0000\n",
      "11 \t 2.7194799110210365e-16 \t 0.0000\n",
      "12 \t 3.8459253727671276e-16 \t 0.0000\n",
      "13 \t 3.1401849173675503e-16 \t 0.0000\n",
      "14 \t 2.7194799110210365e-16 \t 0.0000\n",
      "15 \t 4.440892098500626e-16 \t 0.0000\n",
      "16 \t 4.1540741810552243e-16 \t 0.0000\n",
      "17 \t 4.440892098500626e-16 \t 0.0000\n",
      "18 \t 3.1401849173675503e-16 \t 0.0000\n",
      "19 \t 3.1401849173675503e-16 \t 0.0000\n",
      "20 \t 4.710277376051325e-16 \t 0.0000\n",
      "30 \t 4.965068306494546e-16 \t 0.0000\n",
      "40 \t 5.874748045952207e-16 \t 0.0000\n",
      "50 \t 5.874748045952207e-16 \t 0.0000\n",
      "60 \t 8.08254562088053e-16 \t 0.0000\n",
      "70 \t 8.15843973306311e-16 \t 0.0000\n",
      "80 \t 8.95090418262362e-16 \t 0.0000\n",
      "90 \t 1.1322097734007351e-15 \t 0.0010\n",
      "100 \t 1.121270291988505e-15 \t 0.0000\n",
      "110 \t 1.1749496091904413e-15 \t 0.0000\n",
      "120 \t 1.121270291988505e-15 \t 0.0000\n",
      "130 \t 1.2803716525534355e-15 \t 0.0000\n",
      "140 \t 1.211110335867595e-15 \t 0.0000\n",
      "150 \t 1.1801832636420706e-15 \t 0.0000\n",
      "160 \t 1.1157603309187458e-15 \t 0.0000\n",
      "170 \t 1.3229834214604202e-15 \t 0.0000\n",
      "180 \t 1.3229834214604202e-15 \t 0.0010\n",
      "190 \t 1.2899625854847774e-15 \t 0.0010\n",
      "200 \t 1.5700924586837751e-15 \t 0.0000\n",
      "210 \t 1.464484751053976e-15 \t 0.0000\n",
      "220 \t 1.5740127955196998e-15 \t 0.0010\n",
      "230 \t 1.336885555457667e-15 \t 0.0000\n",
      "240 \t 1.5463617361248926e-15 \t 0.0000\n",
      "250 \t 1.5582722720639762e-15 \t 0.0000\n",
      "260 \t 1.6429800394567031e-15 \t 0.0000\n",
      "270 \t 1.577923392343183e-15 \t 0.0000\n",
      "280 \t 1.6241162679539781e-15 \t 0.0010\n",
      "290 \t 1.7519023829470347e-15 \t 0.0010\n",
      "300 \t 1.6088660122137097e-15 \t 0.0010\n"
     ]
    }
   ],
   "source": [
    "print(\"Rozmiar\\tbłąd\\tczas\")\n",
    "for i in sizes:\n",
    "    A, true_x, b = calc_system(i)\n",
    "    x,t = Thomas_solve(b, i)\n",
    "    x = np.array(x)\n",
    "    print(i, \"\\t\" ,Euclidean_norm(x, true_x), \"\\t\", '%.4f'%t)"
   ]
  }
 ],
 "metadata": {
  "kernelspec": {
   "display_name": "Python 3",
   "language": "python",
   "name": "python3"
  },
  "language_info": {
   "codemirror_mode": {
    "name": "ipython",
    "version": 3
   },
   "file_extension": ".py",
   "mimetype": "text/x-python",
   "name": "python",
   "nbconvert_exporter": "python",
   "pygments_lexer": "ipython3",
   "version": "3.8.3"
  }
 },
 "nbformat": 4,
 "nbformat_minor": 4
}
