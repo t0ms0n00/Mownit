{
 "cells": [
  {
   "cell_type": "markdown",
   "metadata": {},
   "source": [
    "# MOwNiT - laboratorium 7"
   ]
  },
  {
   "cell_type": "markdown",
   "metadata": {},
   "source": [
    "## Autor: Tomasz Boroń"
   ]
  },
  {
   "cell_type": "markdown",
   "metadata": {},
   "source": [
    "## Temat: Rozwiązywanie układów równań liniowych metodami iteracyjnymi"
   ]
  },
  {
   "cell_type": "markdown",
   "metadata": {},
   "source": [
    "#### Importy"
   ]
  },
  {
   "cell_type": "code",
   "execution_count": 2,
   "metadata": {},
   "outputs": [],
   "source": [
    "import numpy as np\n",
    "from sys import exit\n",
    "from time import time"
   ]
  },
  {
   "cell_type": "markdown",
   "metadata": {},
   "source": [
    "#### Definicja układu równań"
   ]
  },
  {
   "cell_type": "code",
   "execution_count": 3,
   "metadata": {},
   "outputs": [],
   "source": [
    "def A_matrix(n):\n",
    "    i, j = np.ogrid[1:n+1, 1:n+1]\n",
    "    return np.where(i == j, 9, 1/(abs(i-j)+2))"
   ]
  },
  {
   "cell_type": "code",
   "execution_count": 4,
   "metadata": {},
   "outputs": [],
   "source": [
    "def permutation(n):\n",
    "    values = np.array([-1, 1])\n",
    "    return np.random.choice(values, n)"
   ]
  },
  {
   "cell_type": "code",
   "execution_count": 5,
   "metadata": {},
   "outputs": [],
   "source": [
    "def calc_system(n):\n",
    "    A = A_matrix(n)\n",
    "    x = permutation(n)\n",
    "    return A, x, A @ x"
   ]
  },
  {
   "cell_type": "markdown",
   "metadata": {},
   "source": [
    "#### Generowanie jednego układu"
   ]
  },
  {
   "cell_type": "code",
   "execution_count": 6,
   "metadata": {},
   "outputs": [
    {
     "name": "stdout",
     "output_type": "stream",
     "text": [
      "A: [[9.         0.33333333 0.25       0.2        0.16666667 0.14285714]\n",
      " [0.33333333 9.         0.33333333 0.25       0.2        0.16666667]\n",
      " [0.25       0.33333333 9.         0.33333333 0.25       0.2       ]\n",
      " [0.2        0.25       0.33333333 9.         0.33333333 0.25      ]\n",
      " [0.16666667 0.2        0.25       0.33333333 9.         0.33333333]\n",
      " [0.14285714 0.16666667 0.2        0.25       0.33333333 9.        ]]\n",
      "Real x: [-1 -1 -1  1 -1  1]\n",
      "b: [-9.40714286 -9.45       -9.3         8.13333333 -8.95        8.40714286]\n",
      "\n"
     ]
    }
   ],
   "source": [
    "n = 6\n",
    "A, true_x, b = calc_system(n)\n",
    "print(\"A:\",A)\n",
    "print(\"Real x:\",true_x)\n",
    "print(\"b:\",b)\n",
    "print()\n",
    "x = np.array([2]*n)\n",
    "true_x = true_x[:, np.newaxis]\n",
    "x = x[:, np.newaxis]\n",
    "b = b[:, np.newaxis]"
   ]
  },
  {
   "cell_type": "markdown",
   "metadata": {},
   "source": [
    "#### Zadanie 1"
   ]
  },
  {
   "cell_type": "code",
   "execution_count": 7,
   "metadata": {},
   "outputs": [],
   "source": [
    "def Jacobi(A, b, x0, prec, stop):\n",
    "    n = x0.size\n",
    "    i, j = np.ogrid[0:n, 0:n]\n",
    "    iteration = 1\n",
    "    while 1:\n",
    "        if iteration == 10000: # zwrócenie None jest celowe - w ten sposób przerywam całą resztę wywołań, którą szukałem układu o promieniu spektralnym ponad 1\n",
    "            print(x0)\n",
    "            return None, None\n",
    "        components = np.where(i != j, A[i,j]*x0[j,0], 0)\n",
    "        c = np.sum(components, axis = 1).reshape(-1, 1)\n",
    "        x1 = (b-c)/A[i,i]\n",
    "        if stop == 1:\n",
    "            if np.linalg.norm(x1-x0) < prec:\n",
    "                return x1, iteration\n",
    "        elif stop == 2:\n",
    "            if np.linalg.norm(A @ x1 - b) < prec:\n",
    "                return x1, iteration\n",
    "        else:\n",
    "            print(\"Bad criterium number\")\n",
    "            return x0, iteration\n",
    "        iteration += 1\n",
    "        x0 = x1"
   ]
  },
  {
   "cell_type": "code",
   "execution_count": 8,
   "metadata": {},
   "outputs": [],
   "source": [
    "def calc_result_prec(x, true_x):\n",
    "    return np.max(abs(x-true_x))"
   ]
  },
  {
   "cell_type": "code",
   "execution_count": 9,
   "metadata": {},
   "outputs": [
    {
     "name": "stdout",
     "output_type": "stream",
     "text": [
      "Got  [[-1.00000216]\n",
      " [-1.00000246]\n",
      " [-1.0000026 ]\n",
      " [ 0.9999974 ]\n",
      " [-1.00000246]\n",
      " [ 0.99999784]]  after  7 iterations\n",
      "Result precision:  2.603542481494081e-06\n"
     ]
    }
   ],
   "source": [
    "result, i = Jacobi(A, b, x, 1e-4, 2)\n",
    "print(\"Got \", result, \" after \", i, \"iterations\")\n",
    "print(\"Result precision: \", calc_result_prec(result, true_x))"
   ]
  },
  {
   "cell_type": "markdown",
   "metadata": {},
   "source": [
    "#### Zadanie 2"
   ]
  },
  {
   "cell_type": "code",
   "execution_count": 10,
   "metadata": {},
   "outputs": [],
   "source": [
    "def find_iteration_matrix(A):\n",
    "    n = A.shape[0]\n",
    "    i, j = np.ogrid[0:n, 0:n]\n",
    "    D = np.where(i == j, A[i,i], 0)\n",
    "    M = np.eye(n) - (np.linalg.inv(D) @ A)\n",
    "    return M"
   ]
  },
  {
   "cell_type": "code",
   "execution_count": 11,
   "metadata": {},
   "outputs": [],
   "source": [
    "def spectral_radius_lib(M):\n",
    "    eigenvalues = np.linalg.eig(M)[0]\n",
    "    return np.max(abs(eigenvalues))"
   ]
  },
  {
   "cell_type": "code",
   "execution_count": 12,
   "metadata": {},
   "outputs": [],
   "source": [
    "def spectral_radius(M):\n",
    "    x0 = np.array([1]*M.shape[0])\n",
    "    x0 = x0[:, np.newaxis]\n",
    "    for i in range(200):\n",
    "        x1 = (M @ x0)/(np.linalg.norm(M @ x0))\n",
    "        x0 = x1\n",
    "    return abs((x1.T@M@x1/(x1.T@x1)).item())"
   ]
  },
  {
   "cell_type": "code",
   "execution_count": 13,
   "metadata": {},
   "outputs": [
    {
     "name": "stdout",
     "output_type": "stream",
     "text": [
      "0.13961187741990214\n",
      "0.1396118774199021\n"
     ]
    }
   ],
   "source": [
    "M = find_iteration_matrix(A)\n",
    "print(spectral_radius_lib(M))\n",
    "print(spectral_radius(M))"
   ]
  },
  {
   "cell_type": "markdown",
   "metadata": {},
   "source": [
    "#### Zadanie 3"
   ]
  },
  {
   "cell_type": "code",
   "execution_count": 14,
   "metadata": {},
   "outputs": [],
   "source": [
    "def sor(A, b, x0, prec, stop, omega):\n",
    "    n = x0.size\n",
    "    c = np.array([0.0]*n)\n",
    "    c = c[:, np.newaxis]\n",
    "    d = np.array([0.0]*n)\n",
    "    d = d[:, np.newaxis]\n",
    "    iteration = 1\n",
    "    while 1:\n",
    "        if iteration == 10000:\n",
    "            return None, None\n",
    "        x1 = np.array([0.0]*n)\n",
    "        x1 = x1[:, np.newaxis]\n",
    "        for i in range(n):\n",
    "            for j in range(i):\n",
    "                c[j,0] = A[i,j]*x1[j,0]\n",
    "                d[j,0] = 0\n",
    "            for j in range(i, n):\n",
    "                c[j,0] = 0\n",
    "                d[j,0] = A[i,j]*x0[j,0]\n",
    "            x1[i,0] = x0[i,0] + omega*(b[i,0]-np.sum(c)-np.sum(d))/A[i,i]\n",
    "        if stop == 1:\n",
    "            if np.linalg.norm(x1-x0) < prec:\n",
    "                return x1, iteration\n",
    "        elif stop == 2:\n",
    "            if np.linalg.norm(A @ x1 - b) < prec:\n",
    "                return x1, iteration\n",
    "        else:\n",
    "            print(\"Bad criterium number\")\n",
    "            return x0, iteration\n",
    "        iteration += 1\n",
    "        x0 = x1"
   ]
  },
  {
   "cell_type": "code",
   "execution_count": 15,
   "metadata": {},
   "outputs": [],
   "source": [
    "def sor_iteration_matrix(A, omega):\n",
    "    n = A.shape[0]\n",
    "    i, j = np.ogrid[0:n, 0:n]\n",
    "    D = np.where(i==j, A[i, j], 0)\n",
    "    L = np.where(i>j, A[i, j], 0)\n",
    "    U = np.where(i<j, A[i, j], 0)\n",
    "    return np.linalg.inv(D + omega * L) @ (D - omega * (D + U))"
   ]
  },
  {
   "cell_type": "code",
   "execution_count": 16,
   "metadata": {},
   "outputs": [
    {
     "name": "stdout",
     "output_type": "stream",
     "text": [
      "SOR: Spectral radius  0.4159576470491603\n",
      "SOR: Got  [[-0.99999972]\n",
      " [-0.99999897]\n",
      " [-0.99999639]\n",
      " [ 0.99999448]\n",
      " [-0.99999397]\n",
      " [ 0.99999953]]  after  14 iterations\n",
      "Result precision:  6.026252758806194e-06\n"
     ]
    }
   ],
   "source": [
    "result, i = sor(A, b, x, 1e-4, 2, 0.6)\n",
    "M = sor_iteration_matrix(A, 0.6)\n",
    "rad = spectral_radius_lib(M)\n",
    "print(\"SOR: Spectral radius \", rad)\n",
    "print(\"SOR: Got \", result, \" after \", i, \"iterations\")\n",
    "print(\"Result precision: \", calc_result_prec(result, true_x))"
   ]
  },
  {
   "cell_type": "markdown",
   "metadata": {},
   "source": [
    "#### Testy całości"
   ]
  },
  {
   "cell_type": "markdown",
   "metadata": {},
   "source": [
    "Metoda Jacobiego, precyzja 1e-3"
   ]
  },
  {
   "cell_type": "code",
   "execution_count": null,
   "metadata": {
    "scrolled": true
   },
   "outputs": [],
   "source": [
    "prec = 1e-3\n",
    "sizes = [i for i in range(2,21)] + [i for i in range(30, 101, 10)]\n",
    "print(\"Równań\\titeracji\\tdokładność_wyniku\\tpromień_spektralny\\tstop\")\n",
    "for elem in sizes:\n",
    "    n = elem\n",
    "    A, true_x, b = calc_system(n)\n",
    "    x = np.random.uniform(-50, 50, n)\n",
    "    true_x = true_x[:, np.newaxis]\n",
    "    x = x[:, np.newaxis]\n",
    "    b = b[:, np.newaxis]\n",
    "    result, i = Jacobi(A, b, x, prec, 1)\n",
    "    result_prec = calc_result_prec(result, true_x)\n",
    "    M = find_iteration_matrix(A)\n",
    "    print(n,\"\\t\",i,\"\\t\",result_prec,\"\\t\",spectral_radius(M),\"\\t\",\"1\")\n",
    "    result, i = Jacobi(A, b, x, prec, 2)\n",
    "    result_prec = calc_result_prec(result, true_x)\n",
    "    M = find_iteration_matrix(A)\n",
    "    print(n,\"\\t\",i,\"\\t\",result_prec,\"\\t\",spectral_radius(M),\"\\t\",\"2\")"
   ]
  },
  {
   "cell_type": "markdown",
   "metadata": {},
   "source": [
    "Metoda Jacobiego, precyzja 1e-6"
   ]
  },
  {
   "cell_type": "code",
   "execution_count": null,
   "metadata": {},
   "outputs": [],
   "source": [
    "prec = 1e-6\n",
    "sizes = [i for i in range(2,21)] + [i for i in range(30, 101, 10)]\n",
    "print(\"Równań\\titeracji\\tdokładność_wyniku\\tpromień_spektralny\\tstop\")\n",
    "for elem in sizes:\n",
    "    n = elem\n",
    "    A, true_x, b = calc_system(n)\n",
    "    x = np.random.uniform(-50, 50, n)\n",
    "    true_x = true_x[:, np.newaxis]\n",
    "    x = x[:, np.newaxis]\n",
    "    b = b[:, np.newaxis]\n",
    "    result, i = Jacobi(A, b, x, prec, 1)\n",
    "    result_prec = calc_result_prec(result, true_x)\n",
    "    M = find_iteration_matrix(A)\n",
    "    print(n,\"\\t\",i,\"\\t\",result_prec,\"\\t\",spectral_radius(M),\"\\t\",\"1\")\n",
    "    result, i = Jacobi(A, b, x, prec, 2)\n",
    "    result_prec = calc_result_prec(result, true_x)\n",
    "    M = find_iteration_matrix(A)\n",
    "    print(n,\"\\t\",i,\"\\t\",result_prec,\"\\t\",spectral_radius(M),\"\\t\",\"2\")"
   ]
  },
  {
   "cell_type": "markdown",
   "metadata": {},
   "source": [
    "Metoda Jacobiego, precyzja 1e-9"
   ]
  },
  {
   "cell_type": "code",
   "execution_count": null,
   "metadata": {},
   "outputs": [],
   "source": [
    "prec = 1e-9\n",
    "sizes = [i for i in range(2,21)] + [i for i in range(30, 101, 10)]\n",
    "print(\"Równań\\titeracji\\tdokładność_wyniku\\tpromień_spektralny\\tstop\")\n",
    "for elem in sizes:\n",
    "    n = elem\n",
    "    A, true_x, b = calc_system(n)\n",
    "    x = np.random.uniform(-50, 50, n)\n",
    "    true_x = true_x[:, np.newaxis]\n",
    "    x = x[:, np.newaxis]\n",
    "    b = b[:, np.newaxis]\n",
    "    result, i = Jacobi(A, b, x, prec, 1)\n",
    "    result_prec = calc_result_prec(result, true_x)\n",
    "    M = find_iteration_matrix(A)\n",
    "    print(n,\"\\t\",i,\"\\t\",result_prec,\"\\t\",spectral_radius(M),\"\\t\",\"1\")\n",
    "    result, i = Jacobi(A, b, x, prec, 2)\n",
    "    result_prec = calc_result_prec(result, true_x)\n",
    "    M = find_iteration_matrix(A)\n",
    "    print(n,\"\\t\",i,\"\\t\",result_prec,\"\\t\",spectral_radius(M),\"\\t\",\"2\")"
   ]
  },
  {
   "cell_type": "markdown",
   "metadata": {},
   "source": [
    "Sprawdzenie jak wartość omegi wpływa na wyniki dla ustalonego układu"
   ]
  },
  {
   "cell_type": "code",
   "execution_count": null,
   "metadata": {},
   "outputs": [],
   "source": [
    "prec = 1e-6\n",
    "n = 20\n",
    "print(\"Omega\\titeracji\\tdokładność_wyniku\\tstop\")\n",
    "for omega in range(1, 20):\n",
    "    A, true_x, b = calc_system(n)\n",
    "    x = np.random.uniform(-50, 50, n)\n",
    "    true_x = true_x[:, np.newaxis]\n",
    "    x = x[:, np.newaxis]\n",
    "    b = b[:, np.newaxis]\n",
    "    result, i = sor(A, b, x, prec, 1, omega/10)\n",
    "    result_prec = calc_result_prec(result, true_x)\n",
    "    print(omega/10,\"\\t\",i,\"\\t\",result_prec,\"\\t\",\"1\")\n",
    "    result, i = sor(A, b, x, prec, 2, omega/10)\n",
    "    result_prec = calc_result_prec(result, true_x)\n",
    "    print(omega/10,\"\\t\",i,\"\\t\",result_prec,\"\\t\",\"2\")"
   ]
  },
  {
   "cell_type": "markdown",
   "metadata": {},
   "source": [
    "Metoda SOR, precyzja 1e-3, omega = 0.5"
   ]
  },
  {
   "cell_type": "code",
   "execution_count": null,
   "metadata": {},
   "outputs": [],
   "source": [
    "prec = 1e-3\n",
    "omega = 0.5\n",
    "sizes = [i for i in range(2,21)] + [i for i in range(30, 101, 10)]\n",
    "print(\"Równań\\tstop\\titeracji\\tdokładność_wyniku\")\n",
    "for elem in sizes:\n",
    "    n = elem\n",
    "    A, true_x, b = calc_system(n)\n",
    "    x = np.random.uniform(-50, 50, n)\n",
    "    true_x = true_x[:, np.newaxis]\n",
    "    x = x[:, np.newaxis]\n",
    "    b = b[:, np.newaxis]\n",
    "    result, i = sor(A, b, x, prec, 1, omega)\n",
    "    result_prec = calc_result_prec(result, true_x)\n",
    "    print(n, \"\\t\", \"1\",\"\\t\",i,\"\\t\",result_prec)\n",
    "    result, i = sor(A, b, x, prec, 2, omega)\n",
    "    result_prec = calc_result_prec(result, true_x)\n",
    "    print(n, \"\\t\", \"2\",\"\\t\",i,\"\\t\",result_prec)"
   ]
  },
  {
   "cell_type": "markdown",
   "metadata": {},
   "source": [
    "Metoda SOR, precyzja 1e-3, omega = 1.5"
   ]
  },
  {
   "cell_type": "code",
   "execution_count": null,
   "metadata": {},
   "outputs": [],
   "source": [
    "prec = 1e-3\n",
    "omega = 1.5\n",
    "sizes = [i for i in range(2,21)] + [i for i in range(30, 101, 10)]\n",
    "print(\"Równań\\tstop\\titeracji\\tdokładność_wyniku\")\n",
    "for elem in sizes:\n",
    "    n = elem\n",
    "    A, true_x, b = calc_system(n)\n",
    "    x = np.random.uniform(-50, 50, n)\n",
    "    true_x = true_x[:, np.newaxis]\n",
    "    x = x[:, np.newaxis]\n",
    "    b = b[:, np.newaxis]\n",
    "    result, i = sor(A, b, x, prec, 1, omega)\n",
    "    result_prec = calc_result_prec(result, true_x)\n",
    "    print(n, \"\\t\", \"1\",\"\\t\",i,\"\\t\",result_prec)\n",
    "    result, i = sor(A, b, x, prec, 2, omega)\n",
    "    result_prec = calc_result_prec(result, true_x)\n",
    "    print(n, \"\\t\", \"2\",\"\\t\",i,\"\\t\",result_prec)"
   ]
  },
  {
   "cell_type": "markdown",
   "metadata": {},
   "source": [
    "Metoda SOR, precyzja 1e-6, omega = 0.5"
   ]
  },
  {
   "cell_type": "code",
   "execution_count": null,
   "metadata": {},
   "outputs": [],
   "source": [
    "prec = 1e-6\n",
    "omega = 0.5\n",
    "sizes = [i for i in range(2,21)] + [i for i in range(30, 101, 10)]\n",
    "print(\"Równań\\tstop\\titeracji\\tdokładność_wyniku\")\n",
    "for elem in sizes:\n",
    "    n = elem\n",
    "    A, true_x, b = calc_system(n)\n",
    "    x = np.random.uniform(-50, 50, n)\n",
    "    true_x = true_x[:, np.newaxis]\n",
    "    x = x[:, np.newaxis]\n",
    "    b = b[:, np.newaxis]\n",
    "    result, i = sor(A, b, x, prec, 1, omega)\n",
    "    result_prec = calc_result_prec(result, true_x)\n",
    "    print(n, \"\\t\", \"1\",\"\\t\",i,\"\\t\",result_prec)\n",
    "    result, i = sor(A, b, x, prec, 2, omega)\n",
    "    result_prec = calc_result_prec(result, true_x)\n",
    "    print(n, \"\\t\", \"2\",\"\\t\",i,\"\\t\",result_prec)"
   ]
  },
  {
   "cell_type": "markdown",
   "metadata": {},
   "source": [
    "Metoda SOR, precyzja 1e-6, omega = 1.5"
   ]
  },
  {
   "cell_type": "code",
   "execution_count": null,
   "metadata": {},
   "outputs": [],
   "source": [
    "prec = 1e-6\n",
    "omega = 1.5\n",
    "sizes = [i for i in range(2,21)] + [i for i in range(30, 101, 10)]\n",
    "print(\"Równań\\tstop\\titeracji\\tdokładność_wyniku\")\n",
    "for elem in sizes:\n",
    "    n = elem\n",
    "    A, true_x, b = calc_system(n)\n",
    "    x = np.random.uniform(-50, 50, n)\n",
    "    true_x = true_x[:, np.newaxis]\n",
    "    x = x[:, np.newaxis]\n",
    "    b = b[:, np.newaxis]\n",
    "    result, i = sor(A, b, x, prec, 1, omega)\n",
    "    result_prec = calc_result_prec(result, true_x)\n",
    "    print(n, \"\\t\", \"1\",\"\\t\",i,\"\\t\",result_prec)\n",
    "    result, i = sor(A, b, x, prec, 2, omega)\n",
    "    result_prec = calc_result_prec(result, true_x)\n",
    "    print(n, \"\\t\", \"2\",\"\\t\",i,\"\\t\",result_prec)"
   ]
  },
  {
   "cell_type": "markdown",
   "metadata": {},
   "source": [
    "Metoda SOR, precyzja 1e-9, omega = 0.5"
   ]
  },
  {
   "cell_type": "code",
   "execution_count": null,
   "metadata": {},
   "outputs": [],
   "source": [
    "prec = 1e-9\n",
    "omega = 0.5\n",
    "sizes = [i for i in range(2,21)] + [i for i in range(30, 101, 10)]\n",
    "print(\"Równań\\tstop\\titeracji\\tdokładność_wyniku\")\n",
    "for elem in sizes:\n",
    "    n = elem\n",
    "    A, true_x, b = calc_system(n)\n",
    "    x = np.random.uniform(-50, 50, n)\n",
    "    true_x = true_x[:, np.newaxis]\n",
    "    x = x[:, np.newaxis]\n",
    "    b = b[:, np.newaxis]\n",
    "    result, i = sor(A, b, x, prec, 1, omega)\n",
    "    result_prec = calc_result_prec(result, true_x)\n",
    "    print(n, \"\\t\", \"1\",\"\\t\",i,\"\\t\",result_prec)\n",
    "    result, i = sor(A, b, x, prec, 2, omega)\n",
    "    result_prec = calc_result_prec(result, true_x)\n",
    "    print(n, \"\\t\", \"2\",\"\\t\",i,\"\\t\",result_prec)"
   ]
  },
  {
   "cell_type": "markdown",
   "metadata": {},
   "source": [
    "Metoda SOR, precyzja 1e-9, omega = 1.5"
   ]
  },
  {
   "cell_type": "code",
   "execution_count": null,
   "metadata": {},
   "outputs": [],
   "source": [
    "prec = 1e-9\n",
    "omega = 1.5\n",
    "sizes = [i for i in range(2,21)] + [i for i in range(30, 101, 10)]\n",
    "print(\"Równań\\tstop\\titeracji\\tdokładność_wyniku\")\n",
    "for elem in sizes:\n",
    "    n = elem\n",
    "    A, true_x, b = calc_system(n)\n",
    "    x = np.random.uniform(-50, 50, n)\n",
    "    true_x = true_x[:, np.newaxis]\n",
    "    x = x[:, np.newaxis]\n",
    "    b = b[:, np.newaxis]\n",
    "    result, i = sor(A, b, x, prec, 1, omega)\n",
    "    result_prec = calc_result_prec(result, true_x)\n",
    "    print(n, \"\\t\", \"1\",\"\\t\",i,\"\\t\",result_prec)\n",
    "    result, i = sor(A, b, x, prec, 2, omega)\n",
    "    result_prec = calc_result_prec(result, true_x)\n",
    "    print(n, \"\\t\", \"2\",\"\\t\",i,\"\\t\",result_prec)"
   ]
  },
  {
   "cell_type": "markdown",
   "metadata": {},
   "source": [
    "#### Czasy"
   ]
  },
  {
   "cell_type": "code",
   "execution_count": null,
   "metadata": {},
   "outputs": [],
   "source": [
    "prec = 1e-9\n",
    "sizes = [i for i in range(2,21)] + [i for i in range(30, 101, 10)]\n",
    "print(\"Równań\\tstop\\titeracji\\tczas\")\n",
    "for elem in sizes:\n",
    "    n = elem\n",
    "    A, true_x, b = calc_system(n)\n",
    "    x = np.random.uniform(-50, 50, n)\n",
    "    true_x = true_x[:, np.newaxis]\n",
    "    x = x[:, np.newaxis]\n",
    "    b = b[:, np.newaxis]\n",
    "    start_time = time()\n",
    "    result, i = Jacobi(A, b, x, prec, 1)\n",
    "    end_time = time()\n",
    "    print(n,\"\\t\",\"1\",\"\\t\",i,\"\\t\",end_time-start_time)\n",
    "    start_time = time()\n",
    "    result, i = Jacobi(A, b, x, prec, 2)\n",
    "    end_time = time()\n",
    "    print(n,\"\\t\",\"2\",\"\\t\",i,\"\\t\",end_time-start_time)"
   ]
  },
  {
   "cell_type": "code",
   "execution_count": null,
   "metadata": {},
   "outputs": [],
   "source": [
    "prec = 1e-9\n",
    "omega = 0.25\n",
    "sizes = [i for i in range(2,21)] + [i for i in range(30, 101, 10)]\n",
    "print(\"Równań\\tstop\\titeracji\\tczas\")\n",
    "for elem in sizes:\n",
    "    n = elem\n",
    "    A, true_x, b = calc_system(n)\n",
    "    x = np.random.uniform(-50, 50, n)\n",
    "    true_x = true_x[:, np.newaxis]\n",
    "    x = x[:, np.newaxis]\n",
    "    b = b[:, np.newaxis]\n",
    "    start_time = time()\n",
    "    result, i = sor(A, b, x, prec, 1, omega)\n",
    "    end_time = time()\n",
    "    print(n,\"\\t\",\"1\",\"\\t\",i,\"\\t\",end_time-start_time)\n",
    "    start_time = time()\n",
    "    result, i = sor(A, b, x, prec, 2, omega)\n",
    "    end_time = time()\n",
    "    print(n,\"\\t\",\"2\",\"\\t\",i,\"\\t\",end_time-start_time)"
   ]
  },
  {
   "cell_type": "markdown",
   "metadata": {},
   "source": [
    "#### Promień spektralny dla metody SOR"
   ]
  },
  {
   "cell_type": "markdown",
   "metadata": {},
   "source": [
    "Dla ustalonego rozmiaru układu i różnego omega"
   ]
  },
  {
   "cell_type": "code",
   "execution_count": 17,
   "metadata": {},
   "outputs": [
    {
     "name": "stdout",
     "output_type": "stream",
     "text": [
      "Omega\tpromień\n",
      "0.1 \t 0.904071985186227\n",
      "0.2 \t 0.8076958689609361\n",
      "0.3 \t 0.7108762885710865\n",
      "0.4 \t 0.6136137423618666\n",
      "0.5 \t 0.5159074562751714\n",
      "0.6 \t 0.4177549728428773\n",
      "0.7 \t 0.31915063104397695\n",
      "0.8 \t 0.22008099858090985\n",
      "0.9 \t 0.12050666994896707\n",
      "1.0 \t 0.1227527318241316\n",
      "1.1 \t 0.218114124369599\n",
      "1.2 \t 0.3121947713583073\n",
      "1.3 \t 0.4043705560403684\n",
      "1.4 \t 0.4946666560873927\n",
      "1.5 \t 0.5831576750418238\n",
      "1.6 \t 0.6699048707506394\n",
      "1.7 \t 0.7549464348222684\n",
      "1.8 \t 0.8383020694807254\n",
      "1.9 \t 0.9199828511761766\n"
     ]
    }
   ],
   "source": [
    "prec = 1e-6\n",
    "omegas = [x/10 for x in range(1,20)]\n",
    "size = 50\n",
    "A, true_x, b = calc_system(size)\n",
    "x = np.random.uniform(-50, 50, size)\n",
    "true_x = true_x[:, np.newaxis]\n",
    "x = x[:, np.newaxis]\n",
    "b = b[:, np.newaxis]\n",
    "print(\"Omega\\tpromień\")\n",
    "for omega in omegas:\n",
    "    M = sor_iteration_matrix(A, omega)\n",
    "    rad = spectral_radius_lib(M)\n",
    "    print(omega, \"\\t\", rad)"
   ]
  },
  {
   "cell_type": "markdown",
   "metadata": {},
   "source": [
    "Dla ustalonego omega i różnych rozmiarów układu"
   ]
  },
  {
   "cell_type": "code",
   "execution_count": 18,
   "metadata": {},
   "outputs": [
    {
     "name": "stdout",
     "output_type": "stream",
     "text": [
      "Rozmiar\tpromień\n",
      "10 \t 0.5150824376823735\n",
      "20 \t 0.5155387369196587\n",
      "30 \t 0.5157301946776965\n",
      "40 \t 0.5158377837171524\n",
      "50 \t 0.5159074562751714\n",
      "60 \t 0.5159565704672568\n",
      "70 \t 0.5159932135678239\n",
      "80 \t 0.5160216879134877\n",
      "90 \t 0.5160445035136255\n",
      "100 \t 0.5160632280577767\n",
      "110 \t 0.5160788935457178\n",
      "120 \t 0.5160922083652203\n",
      "130 \t 0.5161036756482866\n",
      "140 \t 0.5161136630305113\n",
      "150 \t 0.5161224456614102\n",
      "160 \t 0.5161302337455491\n",
      "170 \t 0.5161371907555433\n",
      "180 \t 0.5161434458166421\n",
      "190 \t 0.5161491023346085\n",
      "200 \t 0.516154244136734\n",
      "210 \t 0.5161589399256802\n",
      "220 \t 0.5161632465655859\n",
      "230 \t 0.5161672115432169\n",
      "240 \t 0.5161708748370527\n",
      "250 \t 0.5161742703545011\n",
      "260 \t 0.5161774270499464\n",
      "270 \t 0.5161803698027894\n",
      "280 \t 0.5161831201151427\n",
      "290 \t 0.5161856966696385\n",
      "300 \t 0.5161881157799825\n",
      "310 \t 0.516190391757288\n",
      "320 \t 0.5161925372104245\n",
      "330 \t 0.5161945632933027\n",
      "340 \t 0.5161964799104893\n",
      "350 \t 0.5161982958880347\n",
      "360 \t 0.5162000191180329\n",
      "370 \t 0.5162016566790658\n",
      "380 \t 0.5162032149397241\n",
      "390 \t 0.5162046996457463\n",
      "400 \t 0.516206115994668\n",
      "410 \t 0.5162074687005141\n",
      "420 \t 0.5162087620487179\n",
      "430 \t 0.5162099999444285\n",
      "440 \t 0.5162111859537556\n",
      "450 \t 0.5162123233401853\n",
      "460 \t 0.5162134150963507\n",
      "470 \t 0.5162144639712425\n",
      "480 \t 0.5162154724954404\n",
      "490 \t 0.5162164430016509\n",
      "500 \t 0.5162173776446333\n",
      "510 \t 0.5162182784173799\n",
      "520 \t 0.5162191471665507\n",
      "530 \t 0.5162199856050966\n",
      "540 \t 0.5162207953250518\n",
      "550 \t 0.5162215778074124\n",
      "560 \t 0.5162223344321912\n",
      "570 \t 0.5162230664865745\n"
     ]
    }
   ],
   "source": [
    "prec = 1e-6\n",
    "omega = 0.5\n",
    "sizes = [i for i in range(10, 571, 10)]\n",
    "print(\"Rozmiar\\tpromień\")\n",
    "for size in sizes:\n",
    "    A, true_x, b = calc_system(size)\n",
    "    x = np.random.uniform(-50, 50, size)\n",
    "    true_x = true_x[:, np.newaxis]\n",
    "    x = x[:, np.newaxis]\n",
    "    b = b[:, np.newaxis]\n",
    "    M = sor_iteration_matrix(A, omega)\n",
    "    rad = spectral_radius_lib(M)\n",
    "    print(size, \"\\t\", rad)"
   ]
  }
 ],
 "metadata": {
  "kernelspec": {
   "display_name": "Python 3",
   "language": "python",
   "name": "python3"
  }
 },
 "nbformat": 4,
 "nbformat_minor": 4
}
